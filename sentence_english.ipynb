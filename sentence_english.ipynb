{
  "nbformat": 4,
  "nbformat_minor": 0,
  "metadata": {
    "colab": {
      "name": "sentence_english.ipynb",
      "provenance": [],
      "authorship_tag": "ABX9TyMtREQr094OFMZa8ddGajx1",
      "include_colab_link": true
    },
    "kernelspec": {
      "name": "python3",
      "display_name": "Python 3"
    },
    "language_info": {
      "name": "python"
    },
    "accelerator": "GPU",
    "widgets": {
      "application/vnd.jupyter.widget-state+json": {
        "779b04effd9e437da60de0120606e9eb": {
          "model_module": "@jupyter-widgets/controls",
          "model_name": "HBoxModel",
          "state": {
            "_view_name": "HBoxView",
            "_dom_classes": [],
            "_model_name": "HBoxModel",
            "_view_module": "@jupyter-widgets/controls",
            "_model_module_version": "1.5.0",
            "_view_count": null,
            "_view_module_version": "1.5.0",
            "box_style": "",
            "layout": "IPY_MODEL_e09293c536b844e08bcd9ecf002a5dfd",
            "_model_module": "@jupyter-widgets/controls",
            "children": [
              "IPY_MODEL_84da86671fb44d41a4433be065c33b74",
              "IPY_MODEL_4e946f4d54de45ccb0330b4d66c341f7"
            ]
          }
        },
        "e09293c536b844e08bcd9ecf002a5dfd": {
          "model_module": "@jupyter-widgets/base",
          "model_name": "LayoutModel",
          "state": {
            "_view_name": "LayoutView",
            "grid_template_rows": null,
            "right": null,
            "justify_content": null,
            "_view_module": "@jupyter-widgets/base",
            "overflow": null,
            "_model_module_version": "1.2.0",
            "_view_count": null,
            "flex_flow": null,
            "width": null,
            "min_width": null,
            "border": null,
            "align_items": null,
            "bottom": null,
            "_model_module": "@jupyter-widgets/base",
            "top": null,
            "grid_column": null,
            "overflow_y": null,
            "overflow_x": null,
            "grid_auto_flow": null,
            "grid_area": null,
            "grid_template_columns": null,
            "flex": null,
            "_model_name": "LayoutModel",
            "justify_items": null,
            "grid_row": null,
            "max_height": null,
            "align_content": null,
            "visibility": null,
            "align_self": null,
            "height": null,
            "min_height": null,
            "padding": null,
            "grid_auto_rows": null,
            "grid_gap": null,
            "max_width": null,
            "order": null,
            "_view_module_version": "1.2.0",
            "grid_template_areas": null,
            "object_position": null,
            "object_fit": null,
            "grid_auto_columns": null,
            "margin": null,
            "display": null,
            "left": null
          }
        },
        "84da86671fb44d41a4433be065c33b74": {
          "model_module": "@jupyter-widgets/controls",
          "model_name": "FloatProgressModel",
          "state": {
            "_view_name": "ProgressView",
            "style": "IPY_MODEL_86636b9b2d7a461dbe769a5588a52a9d",
            "_dom_classes": [],
            "description": "100%",
            "_model_name": "FloatProgressModel",
            "bar_style": "success",
            "max": 1313945868,
            "_view_module": "@jupyter-widgets/controls",
            "_model_module_version": "1.5.0",
            "value": 1313945868,
            "_view_count": null,
            "_view_module_version": "1.5.0",
            "orientation": "horizontal",
            "min": 0,
            "description_tooltip": null,
            "_model_module": "@jupyter-widgets/controls",
            "layout": "IPY_MODEL_47b3a25079cb43e099a9a5280a4c466b"
          }
        },
        "4e946f4d54de45ccb0330b4d66c341f7": {
          "model_module": "@jupyter-widgets/controls",
          "model_name": "HTMLModel",
          "state": {
            "_view_name": "HTMLView",
            "style": "IPY_MODEL_1c8fe25d425e4640a749dc65ad599c5d",
            "_dom_classes": [],
            "description": "",
            "_model_name": "HTMLModel",
            "placeholder": "​",
            "_view_module": "@jupyter-widgets/controls",
            "_model_module_version": "1.5.0",
            "value": " 1.31G/1.31G [01:24&lt;00:00, 15.6MB/s]",
            "_view_count": null,
            "_view_module_version": "1.5.0",
            "description_tooltip": null,
            "_model_module": "@jupyter-widgets/controls",
            "layout": "IPY_MODEL_1762da0dd1b84956a9e884ff74c2dbb0"
          }
        },
        "86636b9b2d7a461dbe769a5588a52a9d": {
          "model_module": "@jupyter-widgets/controls",
          "model_name": "ProgressStyleModel",
          "state": {
            "_view_name": "StyleView",
            "_model_name": "ProgressStyleModel",
            "description_width": "initial",
            "_view_module": "@jupyter-widgets/base",
            "_model_module_version": "1.5.0",
            "_view_count": null,
            "_view_module_version": "1.2.0",
            "bar_color": null,
            "_model_module": "@jupyter-widgets/controls"
          }
        },
        "47b3a25079cb43e099a9a5280a4c466b": {
          "model_module": "@jupyter-widgets/base",
          "model_name": "LayoutModel",
          "state": {
            "_view_name": "LayoutView",
            "grid_template_rows": null,
            "right": null,
            "justify_content": null,
            "_view_module": "@jupyter-widgets/base",
            "overflow": null,
            "_model_module_version": "1.2.0",
            "_view_count": null,
            "flex_flow": null,
            "width": null,
            "min_width": null,
            "border": null,
            "align_items": null,
            "bottom": null,
            "_model_module": "@jupyter-widgets/base",
            "top": null,
            "grid_column": null,
            "overflow_y": null,
            "overflow_x": null,
            "grid_auto_flow": null,
            "grid_area": null,
            "grid_template_columns": null,
            "flex": null,
            "_model_name": "LayoutModel",
            "justify_items": null,
            "grid_row": null,
            "max_height": null,
            "align_content": null,
            "visibility": null,
            "align_self": null,
            "height": null,
            "min_height": null,
            "padding": null,
            "grid_auto_rows": null,
            "grid_gap": null,
            "max_width": null,
            "order": null,
            "_view_module_version": "1.2.0",
            "grid_template_areas": null,
            "object_position": null,
            "object_fit": null,
            "grid_auto_columns": null,
            "margin": null,
            "display": null,
            "left": null
          }
        },
        "1c8fe25d425e4640a749dc65ad599c5d": {
          "model_module": "@jupyter-widgets/controls",
          "model_name": "DescriptionStyleModel",
          "state": {
            "_view_name": "StyleView",
            "_model_name": "DescriptionStyleModel",
            "description_width": "",
            "_view_module": "@jupyter-widgets/base",
            "_model_module_version": "1.5.0",
            "_view_count": null,
            "_view_module_version": "1.2.0",
            "_model_module": "@jupyter-widgets/controls"
          }
        },
        "1762da0dd1b84956a9e884ff74c2dbb0": {
          "model_module": "@jupyter-widgets/base",
          "model_name": "LayoutModel",
          "state": {
            "_view_name": "LayoutView",
            "grid_template_rows": null,
            "right": null,
            "justify_content": null,
            "_view_module": "@jupyter-widgets/base",
            "overflow": null,
            "_model_module_version": "1.2.0",
            "_view_count": null,
            "flex_flow": null,
            "width": null,
            "min_width": null,
            "border": null,
            "align_items": null,
            "bottom": null,
            "_model_module": "@jupyter-widgets/base",
            "top": null,
            "grid_column": null,
            "overflow_y": null,
            "overflow_x": null,
            "grid_auto_flow": null,
            "grid_area": null,
            "grid_template_columns": null,
            "flex": null,
            "_model_name": "LayoutModel",
            "justify_items": null,
            "grid_row": null,
            "max_height": null,
            "align_content": null,
            "visibility": null,
            "align_self": null,
            "height": null,
            "min_height": null,
            "padding": null,
            "grid_auto_rows": null,
            "grid_gap": null,
            "max_width": null,
            "order": null,
            "_view_module_version": "1.2.0",
            "grid_template_areas": null,
            "object_position": null,
            "object_fit": null,
            "grid_auto_columns": null,
            "margin": null,
            "display": null,
            "left": null
          }
        },
        "9f5cda60d3b846f29f2dfadfecf00fa7": {
          "model_module": "@jupyter-widgets/controls",
          "model_name": "HBoxModel",
          "state": {
            "_view_name": "HBoxView",
            "_dom_classes": [],
            "_model_name": "HBoxModel",
            "_view_module": "@jupyter-widgets/controls",
            "_model_module_version": "1.5.0",
            "_view_count": null,
            "_view_module_version": "1.5.0",
            "box_style": "",
            "layout": "IPY_MODEL_cc43a6fad76740feb50e564556375716",
            "_model_module": "@jupyter-widgets/controls",
            "children": [
              "IPY_MODEL_6e828a5d1db442639d96f8766e414166",
              "IPY_MODEL_a25ba830e9a54f6283f025835ae1499b"
            ]
          }
        },
        "cc43a6fad76740feb50e564556375716": {
          "model_module": "@jupyter-widgets/base",
          "model_name": "LayoutModel",
          "state": {
            "_view_name": "LayoutView",
            "grid_template_rows": null,
            "right": null,
            "justify_content": null,
            "_view_module": "@jupyter-widgets/base",
            "overflow": null,
            "_model_module_version": "1.2.0",
            "_view_count": null,
            "flex_flow": null,
            "width": null,
            "min_width": null,
            "border": null,
            "align_items": null,
            "bottom": null,
            "_model_module": "@jupyter-widgets/base",
            "top": null,
            "grid_column": null,
            "overflow_y": null,
            "overflow_x": null,
            "grid_auto_flow": null,
            "grid_area": null,
            "grid_template_columns": null,
            "flex": null,
            "_model_name": "LayoutModel",
            "justify_items": null,
            "grid_row": null,
            "max_height": null,
            "align_content": null,
            "visibility": null,
            "align_self": null,
            "height": null,
            "min_height": null,
            "padding": null,
            "grid_auto_rows": null,
            "grid_gap": null,
            "max_width": null,
            "order": null,
            "_view_module_version": "1.2.0",
            "grid_template_areas": null,
            "object_position": null,
            "object_fit": null,
            "grid_auto_columns": null,
            "margin": null,
            "display": null,
            "left": null
          }
        },
        "6e828a5d1db442639d96f8766e414166": {
          "model_module": "@jupyter-widgets/controls",
          "model_name": "FloatProgressModel",
          "state": {
            "_view_name": "ProgressView",
            "style": "IPY_MODEL_48548d9185b345cc907f0d890f4c0caa",
            "_dom_classes": [],
            "description": "100%",
            "_model_name": "FloatProgressModel",
            "bar_style": "success",
            "max": 305584576,
            "_view_module": "@jupyter-widgets/controls",
            "_model_module_version": "1.5.0",
            "value": 305584576,
            "_view_count": null,
            "_view_module_version": "1.5.0",
            "orientation": "horizontal",
            "min": 0,
            "description_tooltip": null,
            "_model_module": "@jupyter-widgets/controls",
            "layout": "IPY_MODEL_31d913e985ac448bab3cc1f1a4106159"
          }
        },
        "a25ba830e9a54f6283f025835ae1499b": {
          "model_module": "@jupyter-widgets/controls",
          "model_name": "HTMLModel",
          "state": {
            "_view_name": "HTMLView",
            "style": "IPY_MODEL_333ad1ecb4b54111b5ee687c2b3ec403",
            "_dom_classes": [],
            "description": "",
            "_model_name": "HTMLModel",
            "placeholder": "​",
            "_view_module": "@jupyter-widgets/controls",
            "_model_module_version": "1.5.0",
            "value": " 306M/306M [00:23&lt;00:00, 13.0MB/s]",
            "_view_count": null,
            "_view_module_version": "1.5.0",
            "description_tooltip": null,
            "_model_module": "@jupyter-widgets/controls",
            "layout": "IPY_MODEL_5092f3695ec746c28dd19dcb32fc24e1"
          }
        },
        "48548d9185b345cc907f0d890f4c0caa": {
          "model_module": "@jupyter-widgets/controls",
          "model_name": "ProgressStyleModel",
          "state": {
            "_view_name": "StyleView",
            "_model_name": "ProgressStyleModel",
            "description_width": "initial",
            "_view_module": "@jupyter-widgets/base",
            "_model_module_version": "1.5.0",
            "_view_count": null,
            "_view_module_version": "1.2.0",
            "bar_color": null,
            "_model_module": "@jupyter-widgets/controls"
          }
        },
        "31d913e985ac448bab3cc1f1a4106159": {
          "model_module": "@jupyter-widgets/base",
          "model_name": "LayoutModel",
          "state": {
            "_view_name": "LayoutView",
            "grid_template_rows": null,
            "right": null,
            "justify_content": null,
            "_view_module": "@jupyter-widgets/base",
            "overflow": null,
            "_model_module_version": "1.2.0",
            "_view_count": null,
            "flex_flow": null,
            "width": null,
            "min_width": null,
            "border": null,
            "align_items": null,
            "bottom": null,
            "_model_module": "@jupyter-widgets/base",
            "top": null,
            "grid_column": null,
            "overflow_y": null,
            "overflow_x": null,
            "grid_auto_flow": null,
            "grid_area": null,
            "grid_template_columns": null,
            "flex": null,
            "_model_name": "LayoutModel",
            "justify_items": null,
            "grid_row": null,
            "max_height": null,
            "align_content": null,
            "visibility": null,
            "align_self": null,
            "height": null,
            "min_height": null,
            "padding": null,
            "grid_auto_rows": null,
            "grid_gap": null,
            "max_width": null,
            "order": null,
            "_view_module_version": "1.2.0",
            "grid_template_areas": null,
            "object_position": null,
            "object_fit": null,
            "grid_auto_columns": null,
            "margin": null,
            "display": null,
            "left": null
          }
        },
        "333ad1ecb4b54111b5ee687c2b3ec403": {
          "model_module": "@jupyter-widgets/controls",
          "model_name": "DescriptionStyleModel",
          "state": {
            "_view_name": "StyleView",
            "_model_name": "DescriptionStyleModel",
            "description_width": "",
            "_view_module": "@jupyter-widgets/base",
            "_model_module_version": "1.5.0",
            "_view_count": null,
            "_view_module_version": "1.2.0",
            "_model_module": "@jupyter-widgets/controls"
          }
        },
        "5092f3695ec746c28dd19dcb32fc24e1": {
          "model_module": "@jupyter-widgets/base",
          "model_name": "LayoutModel",
          "state": {
            "_view_name": "LayoutView",
            "grid_template_rows": null,
            "right": null,
            "justify_content": null,
            "_view_module": "@jupyter-widgets/base",
            "overflow": null,
            "_model_module_version": "1.2.0",
            "_view_count": null,
            "flex_flow": null,
            "width": null,
            "min_width": null,
            "border": null,
            "align_items": null,
            "bottom": null,
            "_model_module": "@jupyter-widgets/base",
            "top": null,
            "grid_column": null,
            "overflow_y": null,
            "overflow_x": null,
            "grid_auto_flow": null,
            "grid_area": null,
            "grid_template_columns": null,
            "flex": null,
            "_model_name": "LayoutModel",
            "justify_items": null,
            "grid_row": null,
            "max_height": null,
            "align_content": null,
            "visibility": null,
            "align_self": null,
            "height": null,
            "min_height": null,
            "padding": null,
            "grid_auto_rows": null,
            "grid_gap": null,
            "max_width": null,
            "order": null,
            "_view_module_version": "1.2.0",
            "grid_template_areas": null,
            "object_position": null,
            "object_fit": null,
            "grid_auto_columns": null,
            "margin": null,
            "display": null,
            "left": null
          }
        }
      }
    }
  },
  "cells": [
    {
      "cell_type": "markdown",
      "metadata": {
        "id": "view-in-github",
        "colab_type": "text"
      },
      "source": [
        "<a href=\"https://colab.research.google.com/github/Jeahan/SentenceEmbedding/blob/main/sentence_english.ipynb\" target=\"_parent\"><img src=\"https://colab.research.google.com/assets/colab-badge.svg\" alt=\"Open In Colab\"/></a>"
      ]
    },
    {
      "cell_type": "code",
      "metadata": {
        "colab": {
          "base_uri": "https://localhost:8080/"
        },
        "id": "FuAMYGZhn0Kt",
        "outputId": "4ae0793e-74d2-49d7-eca7-37b4b5257f16"
      },
      "source": [
        "!pip install transformers\n",
        "!pip install sentence-transformers\n"
      ],
      "execution_count": 4,
      "outputs": [
        {
          "output_type": "stream",
          "text": [
            "Collecting transformers\n",
            "\u001b[?25l  Downloading https://files.pythonhosted.org/packages/d5/43/cfe4ee779bbd6a678ac6a97c5a5cdeb03c35f9eaebbb9720b036680f9a2d/transformers-4.6.1-py3-none-any.whl (2.2MB)\n",
            "\u001b[K     |████████████████████████████████| 2.3MB 7.3MB/s \n",
            "\u001b[?25hRequirement already satisfied: regex!=2019.12.17 in /usr/local/lib/python3.7/dist-packages (from transformers) (2019.12.20)\n",
            "Collecting sacremoses\n",
            "\u001b[?25l  Downloading https://files.pythonhosted.org/packages/75/ee/67241dc87f266093c533a2d4d3d69438e57d7a90abb216fa076e7d475d4a/sacremoses-0.0.45-py3-none-any.whl (895kB)\n",
            "\u001b[K     |████████████████████████████████| 901kB 51.6MB/s \n",
            "\u001b[?25hCollecting tokenizers<0.11,>=0.10.1\n",
            "\u001b[?25l  Downloading https://files.pythonhosted.org/packages/d4/e2/df3543e8ffdab68f5acc73f613de9c2b155ac47f162e725dcac87c521c11/tokenizers-0.10.3-cp37-cp37m-manylinux_2_5_x86_64.manylinux1_x86_64.manylinux_2_12_x86_64.manylinux2010_x86_64.whl (3.3MB)\n",
            "\u001b[K     |████████████████████████████████| 3.3MB 50.6MB/s \n",
            "\u001b[?25hRequirement already satisfied: requests in /usr/local/lib/python3.7/dist-packages (from transformers) (2.23.0)\n",
            "Requirement already satisfied: tqdm>=4.27 in /usr/local/lib/python3.7/dist-packages (from transformers) (4.41.1)\n",
            "Collecting huggingface-hub==0.0.8\n",
            "  Downloading https://files.pythonhosted.org/packages/a1/88/7b1e45720ecf59c6c6737ff332f41c955963090a18e72acbcbeac6b25e86/huggingface_hub-0.0.8-py3-none-any.whl\n",
            "Requirement already satisfied: filelock in /usr/local/lib/python3.7/dist-packages (from transformers) (3.0.12)\n",
            "Requirement already satisfied: importlib-metadata; python_version < \"3.8\" in /usr/local/lib/python3.7/dist-packages (from transformers) (4.0.1)\n",
            "Requirement already satisfied: packaging in /usr/local/lib/python3.7/dist-packages (from transformers) (20.9)\n",
            "Requirement already satisfied: numpy>=1.17 in /usr/local/lib/python3.7/dist-packages (from transformers) (1.19.5)\n",
            "Requirement already satisfied: click in /usr/local/lib/python3.7/dist-packages (from sacremoses->transformers) (7.1.2)\n",
            "Requirement already satisfied: joblib in /usr/local/lib/python3.7/dist-packages (from sacremoses->transformers) (1.0.1)\n",
            "Requirement already satisfied: six in /usr/local/lib/python3.7/dist-packages (from sacremoses->transformers) (1.15.0)\n",
            "Requirement already satisfied: urllib3!=1.25.0,!=1.25.1,<1.26,>=1.21.1 in /usr/local/lib/python3.7/dist-packages (from requests->transformers) (1.24.3)\n",
            "Requirement already satisfied: certifi>=2017.4.17 in /usr/local/lib/python3.7/dist-packages (from requests->transformers) (2020.12.5)\n",
            "Requirement already satisfied: chardet<4,>=3.0.2 in /usr/local/lib/python3.7/dist-packages (from requests->transformers) (3.0.4)\n",
            "Requirement already satisfied: idna<3,>=2.5 in /usr/local/lib/python3.7/dist-packages (from requests->transformers) (2.10)\n",
            "Requirement already satisfied: typing-extensions>=3.6.4; python_version < \"3.8\" in /usr/local/lib/python3.7/dist-packages (from importlib-metadata; python_version < \"3.8\"->transformers) (3.7.4.3)\n",
            "Requirement already satisfied: zipp>=0.5 in /usr/local/lib/python3.7/dist-packages (from importlib-metadata; python_version < \"3.8\"->transformers) (3.4.1)\n",
            "Requirement already satisfied: pyparsing>=2.0.2 in /usr/local/lib/python3.7/dist-packages (from packaging->transformers) (2.4.7)\n",
            "Installing collected packages: sacremoses, tokenizers, huggingface-hub, transformers\n",
            "Successfully installed huggingface-hub-0.0.8 sacremoses-0.0.45 tokenizers-0.10.3 transformers-4.6.1\n",
            "Collecting sentence-transformers\n",
            "\u001b[?25l  Downloading https://files.pythonhosted.org/packages/cc/75/df441011cd1726822b70fbff50042adb4860e9327b99b346154ead704c44/sentence-transformers-1.2.0.tar.gz (81kB)\n",
            "\u001b[K     |████████████████████████████████| 81kB 5.1MB/s \n",
            "\u001b[?25hRequirement already satisfied: transformers<5.0.0,>=3.1.0 in /usr/local/lib/python3.7/dist-packages (from sentence-transformers) (4.6.1)\n",
            "Requirement already satisfied: tqdm in /usr/local/lib/python3.7/dist-packages (from sentence-transformers) (4.41.1)\n",
            "Requirement already satisfied: torch>=1.6.0 in /usr/local/lib/python3.7/dist-packages (from sentence-transformers) (1.8.1+cu101)\n",
            "Requirement already satisfied: torchvision in /usr/local/lib/python3.7/dist-packages (from sentence-transformers) (0.9.1+cu101)\n",
            "Requirement already satisfied: numpy in /usr/local/lib/python3.7/dist-packages (from sentence-transformers) (1.19.5)\n",
            "Requirement already satisfied: scikit-learn in /usr/local/lib/python3.7/dist-packages (from sentence-transformers) (0.22.2.post1)\n",
            "Requirement already satisfied: scipy in /usr/local/lib/python3.7/dist-packages (from sentence-transformers) (1.4.1)\n",
            "Requirement already satisfied: nltk in /usr/local/lib/python3.7/dist-packages (from sentence-transformers) (3.2.5)\n",
            "Collecting sentencepiece\n",
            "\u001b[?25l  Downloading https://files.pythonhosted.org/packages/f5/99/e0808cb947ba10f575839c43e8fafc9cc44e4a7a2c8f79c60db48220a577/sentencepiece-0.1.95-cp37-cp37m-manylinux2014_x86_64.whl (1.2MB)\n",
            "\u001b[K     |████████████████████████████████| 1.2MB 12.3MB/s \n",
            "\u001b[?25hRequirement already satisfied: regex!=2019.12.17 in /usr/local/lib/python3.7/dist-packages (from transformers<5.0.0,>=3.1.0->sentence-transformers) (2019.12.20)\n",
            "Requirement already satisfied: tokenizers<0.11,>=0.10.1 in /usr/local/lib/python3.7/dist-packages (from transformers<5.0.0,>=3.1.0->sentence-transformers) (0.10.3)\n",
            "Requirement already satisfied: huggingface-hub==0.0.8 in /usr/local/lib/python3.7/dist-packages (from transformers<5.0.0,>=3.1.0->sentence-transformers) (0.0.8)\n",
            "Requirement already satisfied: filelock in /usr/local/lib/python3.7/dist-packages (from transformers<5.0.0,>=3.1.0->sentence-transformers) (3.0.12)\n",
            "Requirement already satisfied: importlib-metadata; python_version < \"3.8\" in /usr/local/lib/python3.7/dist-packages (from transformers<5.0.0,>=3.1.0->sentence-transformers) (4.0.1)\n",
            "Requirement already satisfied: requests in /usr/local/lib/python3.7/dist-packages (from transformers<5.0.0,>=3.1.0->sentence-transformers) (2.23.0)\n",
            "Requirement already satisfied: sacremoses in /usr/local/lib/python3.7/dist-packages (from transformers<5.0.0,>=3.1.0->sentence-transformers) (0.0.45)\n",
            "Requirement already satisfied: packaging in /usr/local/lib/python3.7/dist-packages (from transformers<5.0.0,>=3.1.0->sentence-transformers) (20.9)\n",
            "Requirement already satisfied: typing-extensions in /usr/local/lib/python3.7/dist-packages (from torch>=1.6.0->sentence-transformers) (3.7.4.3)\n",
            "Requirement already satisfied: pillow>=4.1.1 in /usr/local/lib/python3.7/dist-packages (from torchvision->sentence-transformers) (7.1.2)\n",
            "Requirement already satisfied: joblib>=0.11 in /usr/local/lib/python3.7/dist-packages (from scikit-learn->sentence-transformers) (1.0.1)\n",
            "Requirement already satisfied: six in /usr/local/lib/python3.7/dist-packages (from nltk->sentence-transformers) (1.15.0)\n",
            "Requirement already satisfied: zipp>=0.5 in /usr/local/lib/python3.7/dist-packages (from importlib-metadata; python_version < \"3.8\"->transformers<5.0.0,>=3.1.0->sentence-transformers) (3.4.1)\n",
            "Requirement already satisfied: chardet<4,>=3.0.2 in /usr/local/lib/python3.7/dist-packages (from requests->transformers<5.0.0,>=3.1.0->sentence-transformers) (3.0.4)\n",
            "Requirement already satisfied: idna<3,>=2.5 in /usr/local/lib/python3.7/dist-packages (from requests->transformers<5.0.0,>=3.1.0->sentence-transformers) (2.10)\n",
            "Requirement already satisfied: urllib3!=1.25.0,!=1.25.1,<1.26,>=1.21.1 in /usr/local/lib/python3.7/dist-packages (from requests->transformers<5.0.0,>=3.1.0->sentence-transformers) (1.24.3)\n",
            "Requirement already satisfied: certifi>=2017.4.17 in /usr/local/lib/python3.7/dist-packages (from requests->transformers<5.0.0,>=3.1.0->sentence-transformers) (2020.12.5)\n",
            "Requirement already satisfied: click in /usr/local/lib/python3.7/dist-packages (from sacremoses->transformers<5.0.0,>=3.1.0->sentence-transformers) (7.1.2)\n",
            "Requirement already satisfied: pyparsing>=2.0.2 in /usr/local/lib/python3.7/dist-packages (from packaging->transformers<5.0.0,>=3.1.0->sentence-transformers) (2.4.7)\n",
            "Building wheels for collected packages: sentence-transformers\n",
            "  Building wheel for sentence-transformers (setup.py) ... \u001b[?25l\u001b[?25hdone\n",
            "  Created wheel for sentence-transformers: filename=sentence_transformers-1.2.0-cp37-none-any.whl size=123339 sha256=4142fbdc223f8e0d93446117ea08cde70c643483cac3de428ff6b672e4319af8\n",
            "  Stored in directory: /root/.cache/pip/wheels/0f/06/f7/faaa96fdda87462b4fd5c47b343340e9d5531ef70d0eef8242\n",
            "Successfully built sentence-transformers\n",
            "Installing collected packages: sentencepiece, sentence-transformers\n",
            "Successfully installed sentence-transformers-1.2.0 sentencepiece-0.1.95\n"
          ],
          "name": "stdout"
        }
      ]
    },
    {
      "cell_type": "code",
      "metadata": {
        "id": "tn_ty7gfn6Ne"
      },
      "source": [
        "from sentence_transformers import SentenceTransformer, util\n",
        "import numpy as np"
      ],
      "execution_count": 5,
      "outputs": []
    },
    {
      "cell_type": "code",
      "metadata": {
        "colab": {
          "base_uri": "https://localhost:8080/",
          "height": 67,
          "referenced_widgets": [
            "779b04effd9e437da60de0120606e9eb",
            "e09293c536b844e08bcd9ecf002a5dfd",
            "84da86671fb44d41a4433be065c33b74",
            "4e946f4d54de45ccb0330b4d66c341f7",
            "86636b9b2d7a461dbe769a5588a52a9d",
            "47b3a25079cb43e099a9a5280a4c466b",
            "1c8fe25d425e4640a749dc65ad599c5d",
            "1762da0dd1b84956a9e884ff74c2dbb0"
          ]
        },
        "id": "YUoJEt0hp8z1",
        "outputId": "7a101a44-9dd2-4443-e0e6-2e5e8244ca73"
      },
      "source": [
        "model = SentenceTransformer('stsb-roberta-large')"
      ],
      "execution_count": 6,
      "outputs": [
        {
          "output_type": "display_data",
          "data": {
            "application/vnd.jupyter.widget-view+json": {
              "model_id": "779b04effd9e437da60de0120606e9eb",
              "version_minor": 0,
              "version_major": 2
            },
            "text/plain": [
              "HBox(children=(FloatProgress(value=0.0, max=1313945868.0), HTML(value='')))"
            ]
          },
          "metadata": {
            "tags": []
          }
        },
        {
          "output_type": "stream",
          "text": [
            "\n"
          ],
          "name": "stdout"
        }
      ]
    },
    {
      "cell_type": "code",
      "metadata": {
        "id": "sY5BnnG7p9Kx"
      },
      "source": [
        "sentence1 = \"I like Python because I can build AI applications\"\n",
        "sentence2 = \"I like Python because I can do data analytics\""
      ],
      "execution_count": 7,
      "outputs": []
    },
    {
      "cell_type": "code",
      "metadata": {
        "id": "osmXQe9Oqyj4"
      },
      "source": [
        "# encode sentences to get their embeddings\n",
        "embedding1 = model.encode(sentence1, convert_to_tensor=True)\n",
        "embedding2 = model.encode(sentence2, convert_to_tensor=True)"
      ],
      "execution_count": 8,
      "outputs": []
    },
    {
      "cell_type": "code",
      "metadata": {
        "colab": {
          "base_uri": "https://localhost:8080/"
        },
        "id": "52DlKUfMq0Hr",
        "outputId": "34e63c4f-89ac-4934-8bcf-53ad608621b1"
      },
      "source": [
        "# compute similarity scores of two embeddings\n",
        "cosine_scores = util.pytorch_cos_sim(embedding1, embedding2)\n",
        "print(\"Sentence 1:\", sentence1)\n",
        "print(\"Sentence 2:\", sentence2)\n",
        "print(\"Similarity score:\", cosine_scores.item())"
      ],
      "execution_count": 9,
      "outputs": [
        {
          "output_type": "stream",
          "text": [
            "Sentence 1: I like Python because I can build AI applications\n",
            "Sentence 2: I like Python because I can do data analytics\n",
            "Similarity score: 0.8015278577804565\n"
          ],
          "name": "stdout"
        }
      ]
    },
    {
      "cell_type": "code",
      "metadata": {
        "id": "P9ByivVUq2Ap"
      },
      "source": [
        "#Korean "
      ],
      "execution_count": 10,
      "outputs": []
    },
    {
      "cell_type": "code",
      "metadata": {
        "colab": {
          "base_uri": "https://localhost:8080/",
          "height": 67,
          "referenced_widgets": [
            "9f5cda60d3b846f29f2dfadfecf00fa7",
            "cc43a6fad76740feb50e564556375716",
            "6e828a5d1db442639d96f8766e414166",
            "a25ba830e9a54f6283f025835ae1499b",
            "48548d9185b345cc907f0d890f4c0caa",
            "31d913e985ac448bab3cc1f1a4106159",
            "333ad1ecb4b54111b5ee687c2b3ec403",
            "5092f3695ec746c28dd19dcb32fc24e1"
          ]
        },
        "id": "BsQKp0Zfrvt0",
        "outputId": "4398756f-a41d-410f-fa88-cfc97f78bda2"
      },
      "source": [
        "model = SentenceTransformer('paraphrase-distilroberta-base-v1')\n"
      ],
      "execution_count": 11,
      "outputs": [
        {
          "output_type": "display_data",
          "data": {
            "application/vnd.jupyter.widget-view+json": {
              "model_id": "9f5cda60d3b846f29f2dfadfecf00fa7",
              "version_minor": 0,
              "version_major": 2
            },
            "text/plain": [
              "HBox(children=(FloatProgress(value=0.0, max=305584576.0), HTML(value='')))"
            ]
          },
          "metadata": {
            "tags": []
          }
        },
        {
          "output_type": "stream",
          "text": [
            "\n"
          ],
          "name": "stdout"
        }
      ]
    },
    {
      "cell_type": "code",
      "metadata": {
        "colab": {
          "base_uri": "https://localhost:8080/"
        },
        "id": "RuNCienor_Ri",
        "outputId": "f3c12ee6-ac7c-4a75-b592-bb175751f76f"
      },
      "source": [
        "import pandas as pd\n",
        "from urllib.request import urlretrieve\n",
        "urlretrieve(\"https://raw.githubusercontent.com/e9t/nsmc/master/ratings_train.txt\", filename=\"ratings_train.txt\")\n",
        "train_data = pd.read_table('ratings_train.txt')\n",
        "print(train_data.head())"
      ],
      "execution_count": 12,
      "outputs": [
        {
          "output_type": "stream",
          "text": [
            "         id                                           document  label\n",
            "0   9976970                                아 더빙.. 진짜 짜증나네요 목소리      0\n",
            "1   3819312                  흠...포스터보고 초딩영화줄....오버연기조차 가볍지 않구나      1\n",
            "2  10265843                                  너무재밓었다그래서보는것을추천한다      0\n",
            "3   9045019                      교도소 이야기구먼 ..솔직히 재미는 없다..평점 조정      0\n",
            "4   6483659  사이몬페그의 익살스런 연기가 돋보였던 영화!스파이더맨에서 늙어보이기만 했던 커스틴 ...      1\n"
          ],
          "name": "stdout"
        }
      ]
    },
    {
      "cell_type": "code",
      "metadata": {
        "colab": {
          "base_uri": "https://localhost:8080/"
        },
        "id": "0SSedpbqsPWB",
        "outputId": "d77228d8-8ef5-4f51-9d5a-33475cb8bdcc"
      },
      "source": [
        "doc_list = train_data[\"document\"].to_list()\n",
        "doc_list = doc_list[0:1000]\n",
        "print(doc_list)"
      ],
      "execution_count": 13,
      "outputs": [
        {
          "output_type": "stream",
          "text": [
            "['아 더빙.. 진짜 짜증나네요 목소리', '흠...포스터보고 초딩영화줄....오버연기조차 가볍지 않구나', '너무재밓었다그래서보는것을추천한다', '교도소 이야기구먼 ..솔직히 재미는 없다..평점 조정', '사이몬페그의 익살스런 연기가 돋보였던 영화!스파이더맨에서 늙어보이기만 했던 커스틴 던스트가 너무나도 이뻐보였다', '막 걸음마 뗀 3세부터 초등학교 1학년생인 8살용영화.ㅋㅋㅋ...별반개도 아까움.', '원작의 긴장감을 제대로 살려내지못했다.', '별 반개도 아깝다 욕나온다 이응경 길용우 연기생활이몇년인지..정말 발로해도 그것보단 낫겟다 납치.감금만반복반복..이드라마는 가족도없다 연기못하는사람만모엿네', '액션이 없는데도 재미 있는 몇안되는 영화', '왜케 평점이 낮은건데? 꽤 볼만한데.. 헐리우드식 화려함에만 너무 길들여져 있나?', '걍인피니트가짱이다.진짜짱이다♥', '볼때마다 눈물나서 죽겠다90년대의 향수자극!!허진호는 감성절제멜로의 달인이다~', '울면서 손들고 횡단보도 건널때 뛰쳐나올뻔 이범수 연기 드럽게못해', '담백하고 깔끔해서 좋다. 신문기사로만 보다 보면 자꾸 잊어버린다. 그들도 사람이었다는 것을.', '취향은 존중한다지만 진짜 내생에 극장에서 본 영화중 가장 노잼 노감동임 스토리도 어거지고 감동도 어거지', 'ㄱ냥 매번 긴장되고 재밋음ㅠㅠ', '참 사람들 웃긴게 바스코가 이기면 락스코라고 까고바비가 이기면 아이돌이라고 깐다.그냥 까고싶어서 안달난것처럼 보인다', '굿바이 레닌 표절인것은 이해하는데 왜 뒤로 갈수록 재미없어지냐', '이건 정말 깨알 캐스팅과 질퍽하지않은 산뜻한 내용구성이 잘 버무러진 깨알일드!!♥', '약탈자를 위한 변명, 이라. 저놈들은 착한놈들 절대 아닌걸요.', '나름 심오한 뜻도 있는 듯. 그냥 학생이 선생과 놀아나는 영화는 절대 아님', '보면서 웃지 않는 건 불가능하다', '재미없다 지루하고. 같은 음식 영화인데도 바베트의 만찬하고 넘 차이남....바베트의 만찬은 이야기도 있고 음식 보는재미도 있는데 ; 이건 볼게없다 음식도 별로 안나오고, 핀란드 풍경이라도 구경할랫는데 그것도 별로 안나옴 ㅡㅡ', '절대 평범한 영화가 아닌 수작이라는걸 말씀드립니다.', '주제는 좋은데 중반부터 지루하다', '다 짤랐을꺼야. 그래서 납득할 수 없었던거야.. 그럴꺼야.. 꼭 그랬던걸꺼야..', 'kl2g 고추를 털어버려야 할텐데', '카밀라벨 발연기', '재밋는뎅', '센스있는 연출력..탁월한 캐스팅..90년대의 향수.. 그래서 9점..', '엄포스의 위력을 다시 한번 깨닫게 해준 적.남 꽃검사님도 연기 정말 좋았어요! 완전 명품드라마!', '졸쓰레기 진부하고말도안됌ㅋㅋ 아..시간아까워', '재밌는데 별점이 왜이리 낮은고', '1%라도 기대했던 내가 죄인입니다 죄인입니다....', '아직도 이 드라마는 내인생의 최고!', '패션에 대한 열정! 안나 윈투어!', '키이라 나이틀리가 연기하고자 했던건 대체 정신장애일까 틱장애일까', '허허...원작가 정신나간 유령이라... 재미있겠네요!', '포스터는 있어보이는데 관객은 114명이네', '이 영화가 왜 이렇게 저평가 받는지 모르겠다', '단순하면서 은은한 매력의 영화', \"'다 알바생인가 내용도 없고 무서운거도 없고 웃긴거도 하나도 없음 완전 별싱거운 영화.ㅇ.ㅇ내ㅇ시간 넘 아까움 .. . 완전 낚임\", '오게두어라! 서리한이 굶주렸다!', '정말 맘에 들어요. 그래서 또 보고싶은데 또 보는 방법이 없네? >.. ㅜㅡ', '윤제문이라는 멋진 배우를 발견하게 됐어요. 소소한 일탈이 잔잔한 미소를 머금게 합니다. 음악은 조금 아쉽네요ㅠㅠ 8점 주고 싶은데 평점 올리고 싶어 10점 줄게요^^', '평점에속지마시길시간낭비 돈낭비임', '리얼리티가 뛰어나긴 한데 큰 공감은 안간다. 이민기캐릭터는 정신의학상 분노조절장애 초기 증상일거다. 툭하면 사람패고 욕하고 물건 파손하고.. 조금 오바였음. 극 초반엔 신선했는데 가면 갈수록 이민기 정신상태 공감불가.', '마이너스는 왜없냐 ㅋ 뮤비 보고 영화수준 딱 알만하더군 ㅉㅉ 북한에서 이런거 만들라고 돈 대주던?', '난 우리영화를 사랑합니다....^^;', '데너리스 타르 가르엔...나도 용의주인이 되고 싶다...누이랑,근친상간이나 하고 다닐지라도,소설 속에선 제일 멋진 놈이 자이메 라니스터였는데,드라마속에선,드래곤(용)이 제일 멋지네(웃음)감독님 토르-2 다크 월드는 말아 잡수셨을지라도,기본 선방은 했음', '영화가 사람의 영혼을 어루만져 줄 수도 있군요 거친 세상사를 잠시 잊고 동화같은 영화에 행복했네요', '야 세르게이! 작은고추의 매운맛을 보여주마! 포퐁저그 콩진호가 간다', '이렇게 가슴시리게 본 드라마가 또 있을까? 감동 그 자체!', '난또 저 꼬마애가 무슨 원한이 깊길래.,. 했더니 OO 그냥 혼자 나대다 OO걸 어쩌라고.', '재미있어요', '전 좋아요', '최고', '너무 충격적이엇다. 기분을 완전히 푹 꺼지게 하는 느낌... 활력이라고는 하나도 없는 너무나도 무거운....지독하고 차갑고 무자비하다. 그저 일본인들의 상상력은 정말 대단한거 같다는 생각이 든다.', '심심한영화.', '백봉기 언제나오나요?', '보는내내 그대로 들어맞는 예측 카리스마 없는 악역', '불알이 나와서 당황...아무튼 영화가 중간에 끝나는 느낌', '평범함속에 녹아든 평범한 일상. 조금 밋밋한게 흠.', '보던거라 계속보고있는데 전개도 느리고 주인공인 은희는 한두컷 나오면서 소극적인모습에 짜증이 ㅜㅜ 맨날 언제끝나나 기대만하고있어요 전개좀 빨리빨리 ㅜㅜ', '사랑하고싶게하는,가슴속온감정을헤집어놓는영화예요정말최고.', '많은 사람들이 이 다큐를 보고 우리나라 슬픈 현대사의 한 단면에 대해 깊이 생각하고 사죄하고 바로 잡기 위해 노력했으면 합니다. 말로만 듣던 보도연맹, 그 민간인 학살이 이정도 일 줄이야. 이건 명백한 살인입니다. 살인자들은 다 어디있나요?', '예전 작품 캐릭터, 에피소드 재탕 삼탕 사골우려먹듯 우리고 내용은 산으로 가고 시청률은 아예안나오고 이제 70회중반인데 120부작이라니 ...', '김남길의 백점짜리 연기력과 초반 몰입도에도 불구하고 지루하고 손예진 ㅈㅈ', '재밌네 비슷한 영화를 안보신 분들한테는 재미있을 듯', '노래실력으로뽑는게 맞냐? 박시환이 mama나가면 진짜 망신이다', '아 일본영화 다이런건가?? 유치하다', '이틀만에 다 봤어요 재밌어요 근데 차 안에 물건 넣어 조작하려고 하면 차 안이 열려있다던지 집 안이 활짝 열려서 아무나 들어간다던가 문자를 조작하려고하면 비번이 안 걸려있고 ㅋㅋㅋ 그런 건 억지스러웠는데 그래도 내용 자체는 좋았어요', '졸작', '재밋네요 달팽이가 빨라서 더 재밌었어요', '어설픈 전개 어이없는 결말', '부패한 로마노프 왕조를 기리는 뭣같은 영화... 온몸으로 항거했던 러시아 민중들이 그저 폭도냐', '내용전개는 무난한 편이였구 잘 보았습니다 ^^', '매우 실망.....', '한국영화 흥행코드: 갈등-갈등-계~에속 갈등-화해-감동- 평점 10점 남발- 흥행 뻔하지 뭐...', '아햏햏 아햏햏 아햏햏.', '뭐냐..시작하고 3분만에 나왔다. 리플릿 사진 보며 불안하더니만..', '단연 최고라고 할수있지', '감독이 럼먹고 영화를 만들었나보다.. 관객에게 뭘 말하는지도 모르겠고, 엉망진창 개진창이다.', '이건 뭐냐? 우뢰매냐? ;;;', '정말쓰레기영화입니다', '진정 위대한 영화 최고임', '별루 였다..', '내일이 기대되는 `', '근데 조미가 막문위 좋아한건가요??', 'ㅋㅋㅋ 진짜 골깜..ㅋㅋ 눈 부라릴때 쓰러짐..ㅋㅋ', '성룡영화중 최악인듯 ㅋㅋ', '골때리네ㅋㅋㅋㅋ 걸스데이 이혜리 잘 되라!', '서기가이뻐서', '완전 재밌어요ㅋㅋㅋㅋㅋ백인공주귀여움ㅋㅋㅋㅋㅋㅋ', '인상적인 영화였다', '어내스트와 셀레스틴 완전 강추에요~ 정말 재밌습니다^^', '재미있는영화입니다.', '클라라볼라고화신본거아닌데', '진짜 보면서 너무 슬펐던 영화다', '설정이 재밌고 새로운 에피소드 내에서 메인 스토리도 차차 나오는게 재밌음', '신카이 마코토의 작화와,미유와 하나카나가 연기를 잘해줘서 더대박이였다.', '재미없음 진심 1이훨나 캐스팅두못한듯', '잔잔한게 생각보다 볼만한 영화인거 같습니다 ㅋ', '감독님들 고은님 쓰면 영화안봅니다 .', '무섭지도 않았고 스토리도 ..ㅡㅡ', '영화속 억지스럽고 노골적인 술광고를 좀 은은하고 센스있게 했으면 어땠을까?', '킬링타임', '크리스마스하면 떠오르는영화', \"재미있게 봤습니다. 매력적인 행복이네요, '-' ㅎㅎㅎ.\", '음악에 완전히 빠져서 볼 수 있었던 영화. 쫌 산만하긴 하던데;;', '태어나서 처음으로 영화보다 중간에 나왔습니다,,,,불륜이 로맨스냐,,', '왕짜증.....아주 전개를 짬뽕으로 믹스했구나...음향만 무섭게하네..하아', '솔직히 난 별루더라 시간낭비느낌', '대박', '시청률 기준이 되는 패널가구들 머하는거지 명작드라마 다 망치네 ㅡㅡ 내가 다 서운하다...', '내용이 이상해;', '몬스터 주식회사 3D 재밌게 봤다', '내용전개가 너무나 느리다........', '소재는 흥미를 끌지만 이야기 전개가 투박해서 몰입이 안되는군', '절대 보지마라 쓰레기 영화', '중국인 특유의 과장, 허풍... 있어보이려고 안간힘 쓴 노력은 가상하나, 고증과 현실감 떨어지는 설정이 거북스럽다... 도대체 그들은 왜 이렇게까지 스스로를 과대포장하는 것인지...', '그냥 불법체류자 때려잡는 영화면 좋았을텐데...무슨 우상화를 만든다고 미국의 따뜻한 설정...이건 뭥미??', '2년의 삶속에 주인공의 생애가 전부 드러난 듯 하다.', '별점10점가자', '별로다.', '본지 꽤 지난 후에 남기지만...재미있었음', '아니 이게 왜 9점대 일까...;;;', '10년이 지나 다시 보게된 영화 .. 다시봐도 그 순수한 사랑에 감동 ㅠㅠ 숀펜의 연기또한 甲', '올레에 공짜로있길래 봤음 ㅋㅋ 헐 ... 스토리가 문제가아니라 연기자들이 전혀 배역이랑 어울리지않음 그리고 상대배우들하고 다 따로 노는거같음~~ 이건 연기자들도 문제있음 보아는 진심 완전 별로임 라미란하고 아들이 젤 볼만했음', '너무 욕심이 많았던 영화. 어느 한 쪽만이라도 제대로 보여줬다면......', '아 빵점~', '베댓이 말을 아주 잘써놨네', '아주 모자라진 않다.', '영화 도둑들이나 뫼비우스 하고 같은 나라에서 만들어졌다는게 믿어지냐..?', '온몸이.. 찌릿..짜릿. 나두 용기를 가져야지!!', '정말재미있고 교훈적인 영화이네요!', '당시의 상황과 주제를 주입식이 아닌 긴장감있고 재밌게 전하는 작품', '케이블에서 그만 나와줬으면 - -', '다르덴,이냐리투,차이밍량이 하나도 안섞인채 짬뽕 그릇에 담겨있다.', '여군 잼없음 뭐하는건지 ...ㅡㅡ잼없음 엠비씨 다잼없음 질린다이제', '좋구나', '한석규, 김혜수 연기만 돋보인 영화. 어딘지 모르게 많이 어설픈 영화.', '솔직히 에볼라바이러스가 떠들석해서 보게된영화인데 작품성이나 어떤면에서도 20여년전 영화라고보기엔 믿기힘들정도로 정말 잘만들었다고본다 마지막후반부가 살짝 아쉽긴하지만 이정도면 수작이라고본다 시간이 아깝지않은영화', '볼만해;', '재미있다고 허풍 떨지 마세요', '용가리 진짜짱짱맨이다ㅋ', '이 영화를 이제서야 보다니.. 감히 내 인생 최고의 영화중 하나로 꼽을 수 있을만한 작품. 어떻게 살아야할지 나를 위한 고민을 한번 더 하게 되는 시간. 그리고 모건 프리먼은 나이가 들어도 여전히 섹시하다.', '작가가별로다 내용이진짜별로임.. 맨날그냥기대하고 재방송하면 혹시나하고봐줘도 답없다진짜..', '명작도 이런 명작이 있을까 싶다. 보고 또 봐도 여운이 남는 영화.', '아~ 진짜 조금만 더 손 좀 보면 왠만한 상업 영화 못지 않게 퀄리티 쩔게 만들어 질 수 있었는데 아쉽네요 그래도 충분히 재미있었습니다 개인적으로 조금만 더 잔인하게 더 자극적으로 노출씬도 화끈하게 했더라면 어땠을까 하는 국산영화라 많이 아낀 듯 보임', '그만좀 끌고 이제 끝내라. 지겹다 지겨워.', '아', '역시 드니로의 연기는 일품 나도 맥스가 샘을 죽이길 바랬다', '나름 괜찮은 작품입니다', '너무 좋은 영화', '정말 실망 스러웟음..', '배우들은 지네들 안뜨니까 이런영화 찍을껀데??? 왜 안뜨는지 진짜 모르는거야? 면상 딱 보면 알겠구만... 왜 지네 자신들은 모를까?', '어린이가 좋아할듯...내어릴적 동심은 멀리 떠낫나보다.', '무술인이 왜 총을드나?', '10점', '크리스토퍼왈츠와 타란티노의 조합이란 ㅠㅠ', '한국에선유명한편은아니지만 외국에선 상상초월한 유명한 영화입니다.', '오랜만에 재밋는영화봤네요', '종방되어 아쉬워요. 오늘막방도 잘봤어요.방송대본이 꽤 완성도있다는 느낌받았고요. 요즘 드라마들의 막장에 지쳐있었는데 수백향은 정말 바른드라마였던듯해요.악역들도 그리 심하게 어이없지도 않았고요..MBC화이팅!!', '평점조절위원회에서 나왔습니다(웃음)김혜선은 @내일이 오면@의 김순정,순정이 역할이 제일이다.팜므파탈로써,그 정도까지 잘해낼 줄은,정말 의외였어...연기20년 한사람에게 요즘 사극에서 벌어지고 있는,그녀에 대한 연기논란은 왠지 코미디의한장면 같음(웃음)', '\"영화 끝나갈때쯤에 멍하다가 다보고나면 한마디 나올거임 \"\"ㅈ같다.\"\"\"', '공유 존잘!!!ㅎㅎㅎ', '상쾌발랄한 영화다. 말하기 껄끄런 성이란 소재를 유쾌하게 해설했다.', '소파에 죽 치고 앉아 지켜 볼 이유가 없는 작품.', '로큰롤!!!!!!!!!!!!!!', '주된 타겟이 어린이니 일반적인 논리가 통하지 않는 건 알겠다. 하지만 게임은 흥미롭지 않고, 요원이라는 주인공이 너무 무능력해서 별로 재미없다. CG 배경도 거슬린다.', '뮤지컬 영화인데 사운드 녹음 엉망, 남주는 춤도 못추고, 내용은 뻔할뻔, 주인공들 목소리도 너무 안어울리고 어제 CGV에서 뛰어 나가려다 참았습니다.진심 말리고 싶습니다. 영국의 저예산 DVD용 영화뮤지컬영화 아닙니다. 맘마미아 1/10도 안됨', '어린나이에 봤음에도 꽤나 좋아했던 로맨틱코미디', '게이물인줄 모르고 봤네...', '알바는꺼저라', '이 영화 머임????내가 왜 받아 봤을까? 그것이 알고싶다....이 영화는 배우들과 스텝들이 감독의 꼭두각시였음.', '4대2라니....최악', '정말 아름다운 영화 입니다', '자극적인 것에 익숙해진 현대인이 봐도 눈을 떼기 힘든 연출력.', '뻑~뻑~잘 읽어볼걸 나도 당했음', '정말 짜증의 극치를 보여주는영화. 굉장히 언밸러스한 느낌. 뚱뚱하고 못생긴 남자애의 발연기를 시종일관 봐야하는게 고역인듯. 간간히 흘러나오는 잔잔한 클래식풍의 음악조차도 듣기싫어 짜증날정도로 상당히 싫은영화.', '감동감동ㅜㅜ, 정말 최고네요!!!!', '별점 주기도 아깝네요 얼마나 내용이 진부한지 욕 밖에 안나오네요보고 재밌다고 하는 사람 초딩들인가요 죄송해요 너무 화가나서.아무 것도 볼게 없습니다 보지 마세요 그냥 티비판짜집기 한거 같네요', '나 왠만해서 짜증안내는데...-_-', '돼지피먹고 닭목따는 장면에선 우웩~ 역시 무당은 아무나 하는게 아니다.', '버려', '유치하고 지루하고 잠이 왔다', '3류풍 판타지 3점만 가져가', '윤종신 복귀는 좋았지만 이하늘은 도대체 왜 뽑혔는지 알수가없다. 참가자 실력을 따지기 전에 심사위원 인격과 실력부터 쌓고 오시길^^ 어하어허 그만좀 하고요', '광장한 작품 옛날것도 보고 싶다', '내 생의 최고의 영화', '어린시절 너무 무섭고 재미있게 봤던 추억의 판타지영화.절대 나쁜짓은 금물.지옥가요..', '기존 멜로영화 형식을 탈피하려고 하였으나 감정의 절제가 지나쳐 너무 담백한 영화', '난 사랑비 서준에게 쏙 빠져버렸네. 1.2.3초만에 쏙ㅋㅋ난 절대잊지도않고후회도안할거야', '이영화를보니까 교훈을 주네요! 나도 남은인생을 화려하게 살아야겟다.. 말밖에 안나오네요..', '나름 추억에 젖어들고 좋았음ㅋㅋ아무생각없이 가볍게 보고오기 추천요~', '단순한 싸이코물을 벗어난', '이게 14년도에 만들어진건가요? 아니면 예전에 만든거 다시개봉한건가요?ㅠ너무 허접해요 ㅠ', '넘 사랑스러운 영화다 ㅠㅠ 1보고 2 연이어 봤다~!! 넘 귀여워 ㅠㅠ♥♥', '청춘 영화만이 줄 수 있는 감성이 넘쳐난다. 이 순간 지나가면 다시 돌아오지 않을테지만, 그 순간만큼은 무한할 젊음이 줄 수 있는 그런 감성.', 'TV용 건담 시리즈 중에서 아직까지도 최고봉', '개콘은 요즘 갈수록 코너들이 다노잼이고 웃음이안난다', '사다코의 한이 서린 우물펀치ㅜㅜ 감동', '후세와 사랑하게된 결정적 계기 그시간이 표현되지 않았으며 시람의 생명을 빼앗아야만하는이유등을 시노가 출현하는 연극으 로 더 알려주었으면 하는 생각이든다. 또한 시노가 얼마나 본능을절제히면서 시랑을 하려고 노력하는지를 더 보여줬다면 좋았을뻔했다', '새벽시간에 하는 일본 영화들은 전부 개졸작이다.일본영화원래 다이래??', '강수연의 나가있어~!그리고 최정원의 신음신~', '아..정말 김혜성 너무 예쁘네요 이현진도 웃는 거 정말...하....', '가발 쓰고 싶다', '화려한여정이인상깊어요ㅋㅋ재밋어요ㅋㅋ배두나연기정말잘해요ㅋ', '10대들을 위한 성적 호기심 영화?', '감동적인 영화', '이건 말이 필요 없다 그냥 닥치고 봐라', '각기 다른 사람들의 재밌고 멋진 사랑영화', '역시 미국드라마의 파워. 정말 알수없는 그 미묘함까지 사로잡아버렸다 최고!!', '너무너무 훈훈하네요^^', '이거 응답하라에서 은지원원도 스스로 욕하지 않앗나? ㅋㅋㅋㅋ', '아 너무 웃기고 배꼽 빠질뻔했네^^ 내 컴에 이 영화 있는데^^', '구성이 상당히 부실한 영화. 역시 네이버 평점은 믿을수 없다.', '장끌로드의 몰락을 가져온 오우삼 헐리우드 작품중 가장 재미없었던 졸작', '언제적 영웅본색 연출인지 현실성 제로인 영화', '작은거 하나에도 설레어했던 학창시절 그때 그느낌을 다시 느껴볼수있는시간이었다. 장면 하나 하나 대사 하나 하나 배경음악 하나 하나 버릴게 없는 드라마.', '진심 재미 없는데 너무 평점 높아서 화남;', '더럽게 재미없다 어떤 형태로도 와 닿지 않는 허무하고 완벽히 지루한 영화고 영양가 하나도 없는 영화다', '이승기 정말 연기 잘하는.. 조연들도 연기 정말 잘하고', '현실은 꿈, 꿈은 현실', '오늘 현충일특집프로로 보게되었습니다 1963년도의 매우 훌륭한 작품입니다', '판의미로와 동급 trash of the trash', '제대하고 보니까 더 재밌네요 ㅋㅋㅋㅋ', '영화를 보는것만으로도 마음의 휴가를 다녀온 느낌.소박하지고 잔잔하지만 지루하지않은..그래서 다시 보고싶은 영화.햇살가득한 비이의 부엌과 요리도 인상적', '코믹한건 좋았는데 짜임새가 너무 허술하다', '1996년 그때 당시에는 우리 나라에 이런 판타지 로맨스가 없었다... 아직도 신현준의 황장군 연기는 음... 괜찮네... ㅎㅎ....한석규의 전성시대가 열린 영화.... 이때 한석규한테 뿅 갔었다~~♥', '일단 재생하면 괴물같은 서스펜스 귀신같은 흡입력', \"하..진짜 댓글보고 한번쯤볼만한 영화인거같아서봤지만 기가찬다..이게무슨버킷리스트인가! 죽기직전에 소원들어주기? 내가보기엔 죽기직전에 막 살자 인거같다. 감동도없고.. 진짜 '버킷리스트' 란 영화에 발톱에 때만큼도 못따라가는쓰레기영화.. 완존실망..\", '이시간좀...밝고긍정적인드라마보고싶어서..보긴보는데....오버하는연기들이거슬리네요...연기인게너무표나요....홍혜정역이그나마도후련기도하고시원하고.....나머진다들답답하네요...낼월요일인데...해피한것만보고싶네요....', '정치인의 모순인가, 정치범의 모순인가....', '어떻게 이런 상상을 대단하다.', '좀 어렵기도 하고, 전쟁에 대한 묘사가... 잘 모르겠다.', '일본에서10주년 극장판만드는데 우리나라에선 10주년으로 재개봉하니이건 좀 ㅄ 아님?', '한대희가 개그콘서트본다고 내전화끊음개그콘서트 없애주세요 ㅡㅡ', '한물 간 동서양 두 배우의 싸움판.', '푸하하하 이거 기대 안했지만.. 역시나 구만..ㅋ', '세계최초의 반공 애니매이션이라는 역사적 가치가 있다.', '감각적인..시각으로...바라보는..색다른...느낌의...사랑...문학적이', '엄마는 무고한 지 딸을 감옥살이 시켜시켜? 이해 안돼요', '이영화는.제발 책을보세여.감독이 미친겁니다.이따위로 만들어놓고.화가 날정도 ㅡㅡ', '신나는 흑인음악과 아이스 큐브 뿐 남는게 없다', '드럽게 재미없네 시간이 돈이다? 내 시간은 어쩔건데', \"그저 한마디뿐 '알리시아'\", '진짜 생생하게 느낄 수 있었다', '재밌는데 평점이 이상하다 싶을 정도로 낮다.', '옥소리 프로필 사진에 1점남기고 갑니다 ㅋㅋㅋㅋㅋㅋㅋㅋㅋㅋㅋㅋㅋㅋ완전 대박이다 진짜 아우 짜증나!', '드라마 너무 재밓당', '아진짜너무좋아요ㅜㅜ짱짱!!!', '연기 굿', '이런 영화 다시는 안나오겠지..그때 시절을 잘나타내주었던거같아요 ㅎㅎ', '중간정도 부터 봤는데도 꽤나 대단하군요...', '콩은 까야 제맛 콩은 까야 제맛', '이적의 소설. 재미없다.', '액션영화가 아니다.범죄 느와르 영화다. 허나 범죄 느와르 영화로서도 실패작.......', '뭔가알수없는매력에빠져드는 영화', '모녀를 토막살해한 살인자가 부성애라니.... 말이되나... 감동받은 사람들 본인들이 피해자가 되도 감동받았다고 할수있을까... 진심 묻고싶습니다...', '재밌는데 평점이 왜 이렇게 구리지', '아 OOO기.. 이걸 본 내눈이 아깝다 ㅡㅡ 진짜 아놔 진짜 OOO기명작이네요', '필름값이 아깝다..재미 더럽게없다..2점부터 점수준것들 매미 OO', '또보고 싶은데 어디서 보죠???', '영화 재미있드만.. ㅎㅎ', '남주인공 연기력 안습이네요... 혀짧은 소리 듣기도 너무 힘들었네요 매니저역활분이 남주인공하는게 훨 좋았겠다는 생각이 들정도... 영화 자체는 적당히 볼 만 합니다 ^^', '3점이 딱.... 액션,스릴러인데 액션과 스릴이 없다.', '완전 스토리도 엉망이구, 완전 비추..ㅜ', 'OOO영화 뭘전달하려는지모르겠네 오글거리고', '좋은영화', '......더빙이 이상해요.....할머니는 월래익숙한 ㄷㅔ.....', '이게 2편이 나왔어???', '모든게 2%씩 다 부족했다...아니..50%씩...', \"정말 말 그대로 '쇼'하는 영화..\", '12년 전에 봐서 기억이 나질 않지만 진개가(천카이거) 감독 이름 세 자는 기억해 두었던.', '정은지 언니!! 연기 잘하구..노래도 잘부르시고! 마지막회 웃으면서 즐겁게! 봤습니다! 트로트의 연인!♥', '이게 웃겨?', '망함', '아이의 시선으로 보는 전쟁.., 보는 내내 가슴이 먹먹했다는...', '사람들이 재미없다고 해서 레알 기대 안했는데 생각보다 볼만함. 근데 여자애랑 복순이랑 다투는 장면? 그건 굳이 없어도 됐다고 생각함 몰입도 겁나 없애고, 어색해보였음', '설정이 연속극같은 느낌이 든다. 하지만 배우들의 연기가 뛰어나다.', '여주인공 인터뷰할때 지루해죽는줄알았음 ㅡㅡ 그냥저냥 킬링타임용 스릴러', '전미 박스 오피스1위 ㅋㅋ 그냥 몰아주기 하는건가 어떻게 이런영화가 1위를 하지 옛날 80~90년대 우뢰매수준의 물폭탄싸움이네 ㅋㅋ 손에서 빔나가나 손에서 물폭탄 나가나 다를게 뭐지?', '감독이 여자다보니 기량이 많이 딸리네', '또 보고 또 울.었.다..', '이런 영화는 하나의 개연성만 없어도 허무하게 만들어 버린다. 조디포스터의 이쁜 모습만 남을 영화.', '굳굳', '스토리도 말이 안되고 개막장 사랑이야기도 아니예요 이걸보고계신다면 당신의 시간과돈을 아낀거예요^.^휴 그래도 본다면 호구', '네놈을 살려두기엔 쌀이 아까워! 세기의 명대사', '평점이 너무 높다. 전혀 재미있지 않았다. 쓸데없이 말만 많음. 이런 류의 영화는 조연들의 뒷받침이 중요한데 조연들의 내용자체가 전혀 없음. 또한 여배우도 별로 매력 없었다. 이틀전에 저스트고위드잇의 애니스톤을 보고 이 영화를 봐서 그런가. 실망했음', '맛깔 나는 드라마.', '시베리아인가 거기가서 훈련할때나오는 ost 개작살', '이건 시종일관 질~~질왜? 제목이 야경꾼 일지냐고 지금 10회가 넘어가는데 즉 2달이 넘어가는데. 앞에서 누군가가 얘기 하더만 이거 100부작이냐고 그러다 또 한 순간에 모든걸 훅진짜 지루함의 지존', '나이들수록 이해가 가는 영화', 'ㅠㅠ 슬픔', '장면 개연성도 없고 아역은 연기도 못하고 무슨 추노에 나오는 민폐언년 외국판인줄....초반만 그럴싸한 저급영화', '이 영화 정말 별루예요. 결말이 이상해요....', '딱히 재미는 없네요 킁;;', '송강호는 정말 연기를 하기위해 태어났고 그로인해 우리는 즐거움을 느낀다 역시 송강호는 연기파다.', '일본영화 수입 금지 시절에도 비디오 테이프로 돌려봤던 불후의 명작 아 그립다', '살인을 소재로 한 영화가 이토록 재밌을 줄이야. 살인에 대한 감독의 해석이 정말 재치있다. 대 배우님들의 10여년전 모습도 새롭웠고. ㅋ. 정말 유쾌하고 재밌다.', '누미 라파스 신봉선 닮아서 안 본다', '케이블에서 그만 좀 재탕해라.', '멋졌다. 정말이지, 멋지다는 말 이외엔 할 말이 없다.', '98년에 어떻게 이런영화가 만들어졌는지 의문.. 당대 최고의 영화 지금봐도 퀄에서 결코 떨어지지 않아요', '지금 이거 티비로 돈내고 보고있는 내가한심하다', '쓰레기 연예인 재기의 장~~그러나...', '굿 좋아', '많은 감동을 준 드라마이다.', '발로만든영화. 지진나서 주인공 넘어지는데 뒤로 사람들 유유히 걸어다니고 있음. 발CG + 발연기 + 발시나리오.... 내용도 정말 뭐같음 ㅋㅋㅋ', '적당히 해야지 언제 끝나는것인가?', '잊을 수 없는 안개낀 워터루 다리와 마스코트.', '곤사토시 감독... 2010년 안타깝게 돌아가셔서 가슴이 먹먹합니다.. 정말 천재적인 감독인데 암으로 가시다니.. ㅠㅠ 이제와서 다시봐도 모든 작품이 대작...', '많은생각을 하게 됐습니다. 예뼈지고 싶은 맘은 있었지만 과하면 독이겠네요. ^^', '아 츠무구만 없어지면 별 5개줄게', '어릴땐 조폭영화로 알다가 나이가들수록 이게 인생이구나 하고 뭉클해지는 영화.세상을 살아가면 갈수록 와닿는게 많아지네요...세상은 비정하지만 비정함마져도 따뜻해지는게 친구라고...', '영상이 너무나도 멋지다.', '비디오가 있어서 봤는데 1997년도인줄모를정도로 잘만들었습니다 긴장감도있고', '처ㅝ주', '2009년에 만들어진것치곤 재밌음 영화가 길어서 좀 다듬었으면 ..소재도 좋고 몰입감도 기대이상 매끄럽지 못한 부분도 있지만 연기는 둘 다 잘한듯', '철지난 조폭 코미디와 뼈대 있는 가문의 이야기를 섞었지만, 둘 다 지루하다. 박정아를 비롯해 배우들은 보기 민망한 연기를 펼치고, 기억에 남는 건 하나도 없다.', '군더더기 없이 잘 진행되는데 재미도 없는게 문제', '심심해서봤는데 재밌네요 탑연기 못할줄알았는데배우포스나고 잘하군요', '고다미 괜찮음', '아 지대짜증 아빠랑 봣는데 민망해 죽는줄', '0점은 못주냐??', '빠순이 영화 ㅋㅋㅋㅋㅋㅋㅋ 훈훈하긔 재밋쎠', '최악의 애니메이션.. 지루하고 재미없고 스토리마저 진부하다', '좋은 의도와는 다르게 불쾌한 표현법', '줄리아로버츠 귀여운연인은 이거보다 5년전꺼다 ...', '신선하네..,,..,,..', '예술가로써의 한 사람의 인생과당시 시대적 상황을 질 느낄 수 있었던 명작', '관객수가 너무 아쉬운 영화...베테랑보다도 더 류승완감독의 역작이고 더 강한악역이다', '한창 핵펭귄이 남북 거짓평화로 전국민을 속이던때 만들어진 영화', '지금 티비에서 하는데.. 못 보겠다..', '여자애 한명이잘 못해서몇명이죽는거야ㅋㅋ답도없다ㅋ', '성룡의 헐리웃작 중 단연 최고지 ㅋㅋㅋ', '안습', '감독의 의도를 전혀 알아차리지 못했다.', '하나님이가정을온전히만든다. 진리이신분이만든영화. 눈으로만보지말고마음으로봐라.', '2편도 나름 흥미진진한데 핀헤드가 죽은게 좀 아쉬운 점이랄까?', '국산 코미디영화중에서 난 신라의달밤이 제일좋았음뭔가 푸근하고 따뜻함..', '최악이다 영화보다가 잠오긴첨임 지루해둑을뻔', '탄탄한 !~배우들 될고 ~머하는 건지~~~~~~~~~~~', '영화가 점점 끝을 달려갈수록 몰입도가 더 높아진 영화는 이번이 처음이네요.', '결국 감독 자신이 하고 싶은 의견을 지존파 핑계삼아 하려고 한듯. 지존파 살인은 정당화하고 정부탓이 였다는.사회탓이라는.', '사실여부를 떠나,알고왔던 아더와 너무 매칭이 안돼더라.원탁기사중 실제 검술 최고수는 랜슬롯으로 알고 있는데,트리스탄보다 못하고,싸우는 검술은 마치 중국검술 흉내낸거 같은게;; 그리고 란슬롯이 실제는 쌍검였나?너무 매칭이 안대 하튼 ㅋ기네비어역도 미스.', '대한민국 영화 수준의 평균치를 하락시키기에 충분한 C급 영상물', '0점은 없나??', '재밌는데', '재미없다... 기대 완전 했는데.... 완전 못함!!! 실망....', '종착역 없는 인생의 대유. 트레비스는 단지 흘러간다.', '돈과 시간이 아까운 영화', '네러티브는 하나도 없는 예쁜 음악 동영상. 취미로 영화만드는 것은 이걸로 끝나길 . 잘하는 음악에 올인하길.', '배우들의 연기는 좋았는데.. 뭘 말 하려는 건지?', '학위위조성범죄자 문제자들만 모아서 영화찍음 왜그랬으까 제작비 아끼려구 패자부활전 하냐?', '솔직히', '완전재미있어요.애들도보기에알맞는듯', '잔인하기도 하고 무서웠어요ㅠ탑은 멋있더라구요~~', '무섭지도 않고 기분만 나쁘고 쩝', '군더더기 없는 깔끔한 그러나 강한 메세지 전달. 뜻밖의 참좋은 영화..!', '이 영화는 최고다. 그냥 최고야 그런 줄 알아', '그랜드 부다페스트 호텔과 시리즈 같네.. 캐스팅이 아까워~', '빨리감기해서 봤음...투자비는 많이 들었을 것 같은데...영화사 망했네~ㅎ', '도대체 뭐가 재밌다는건지 모르겠네요 무슨 아이언맨 시리즈의 개그도 뛰어넘는다 하는데 어디서 웃어야할지도 모르겠고 내용도 뭔지 뜬금없는 히어로놀이는 또 뭔지.. 왜이렇게 평점이 높은지 모르겠습니다', '왜 극을 끌어가는 중심있는 캐릭터가 있어야 하는지 알게 된영화 살인마와 대적하는 그리고 사건을 해결하는 인물이 없고 그리고 왜 마지막에 다 탈출 해놓고 나서 잡히고 죽임을 당하는지 이해할수가 없다. 대체 조달환 정유미는 왜 나옴?', '진 짜 리얼 개 쓰레기 영화 . 다 보고 나면 정말 찝찝해지는 영화 절대보지마', '비록 로봇이지만 점차 인간의 감정을 가지고 자신에 대해 고민하면서 결국 인간이 되어 죽는 앤드류의 모습내가 봤던 영화 중에서도 최고의 감동을 선사한 영화', '영구와땡칠이시리즈는 레전드영화다', '초딩 때 친척형이 비디오로 빌려와서 봤던 기억이 난다...너무 재미 없었다 근데 나중에 우연히 다시보니 재밌더라 그 땐 왜 그렇게 재미가 없었을까?? 98년이면 내가 초등학교 2학년 때니까...사촌형이 당시 나름 최신 비디오를 빌려온거 같다', '지루할만큼 고요하고 서글픈 시선속에 머문 깊은 성찰과 사색.', '영화 진짜 보고 .. 펑펑울었습니다 , 너무슬픈거같아요 .. ㅜㅜㅜ !', '누가 더 혀짧은가 내기하면 박빙일것같다', '애 둘 딸린 심은하의 그 눈부신 미모, 아름다운 영상, 메인 주제가', '3기 나오겠죠 ? 아직 안풀린 이야기들이 많은데 극장판은 정말 시간가는줄도 모르고 봤네요 역시 싸패..', '개노잼;; 뭔가 스토리도 부족하고 다이상함 진짜;', '답없네, 뭐하는건지..', '절망과 슬픔 속에서도 자신을 챙겨야만하는 삶의 잔인함을 거부한 비참함에 대하여', '페이스 허거 같음ㅋㅋㅋㅋㅋ', '시간이 흘러도 퇴색되지 않는 맛이 있는 영화', '진짜 어마어마한 여운을 주는 멜로 영화에요.ㅎ', '소피마르소와의 말같지도 않은 불륜이 내용 다 망침. 물론 실제 역사에는 그런 똥같은 이야기는 전혀 없었음.(주인공 죽을때 공주는 10살이었음)한마디.만약 미국인과 맞서 싸우는 아메리칸 원주민의 자유 투쟁기였으면 절대 아카데미상 못 받았음.', '훈훈하고 따뜻한 부정을 느낄수잇엇음', '잼', '전 정말 재미있게 봤습니다', '어딘가에서 일어나고 일일것같은 느낌이 강하다.우베볼이 이런 영화를 만드는 이유는 누군가 실제로 따라 했으면 하고 바라는것 같은데 정장 월가 있는 애들이 보면 웃겠지...', '림프비즈킷의 OST만 10점. 개봉 당시 극장에서 봤는데 영화내내 오우삼 쥑이고 싶었던ㅋㅋ', '견자단 대박!!엽문 시리즈는 계속된다.', '정말 오월의 멜로는 정말로 보고보고 또봐도 계속 보고싶은 영화순위 1순위다하,,,늦은 밤이라 그런지 야릇한 느낌이 들었다', '흥미롭게 봤어요. 여배우들 이쁘네요. 반했음', '스토리, 액션, 그래픽 머 하나 건질게 없는 망작. 그냥 게임으로나 즐기셔~', '그냥 레전드다 레전드!!!', '평론가 명치를 겁나 때리고 싶다. 정말 이 영화 재미없을거라 생각했는데 재미도 있고 내 인생에 도움이 가장큰 영화입니다. 본인이 깨달고 싶으면 꼭 보세요. 인생을 바꿔줄겁니다.', '키아누 리브스 최고의 액션 영화!!', '소재가 아름다운 영화. 다소 아쉬운 부분들이 있는 이유는 이 영화는 영화스러운 극적 로맨스보단, 좀 더 사실적으로 한 남자의 마음과 시선을 말하고 싶었기 때문 아닐까.', '영화평론가는 아니지만, 좋았다, 한번보고마는 영화가 아닌, 울림이있는영화', '역시 효느!!! 역시 재밌다ㅋㅋㅋ 재탕중...', '4대강', '간첩색휘들 애쓴다 밥은 먹고 다니냐?', '좀 검증된 애들좀 출현시켜라이탈리아 특집 장난하냐', '아 정말짜증나네 절때보지말껄욕나옴', '슬프다 ㅠㅠ', '.최악의 환경속에서 이런 만화라도 만든사람들에게 경의를 보낸다.', 'What is this movie for?', '여운이 엄청~길게 남는영화.. 이이경을 사랑하게하는 영화!', '이딴게 한국 영화라니', '짜가인가 이게뭐여..뭔..', '굿 10자 이상 .가나다라', '짱이다ㅎ 혼자자식키우며살아온엄마 그의아들 힘들게살아오면서 서로예민해지고날카로워질때도잇엇지만 결국 ..가족ㅎ 아빠라는 사람도 생각보다최악이아니고..여자는, 확실히 요구하면도와준다는 그말이 왠지짠하게와닿는다ㅎ 나혼자괜히끙끙거리지말자ㅡ이런단순한생각이든다', 'CG도 별로고 전개도 별로고 연기도 별로고 한마디로 재미없다', '번지수 잃고 갈팡질팡', 'Yesterday when i was young', '너무 사랑스럽고 감동적인 영화:) 정말 좋앗어요', '최고의영화', '13년전 영활 다시보니 공효진 코평수줄이고 콧대높였네...완전 못생겼어 ㅎㅎ호 권상우는 화산고때 왼쪽 팔자 심하더니 지금 사라지고 더 잘생겨졌고 장혁은 멋지게 늙었네. ㅋㅋㅋ다시보니 웃겨', '말랑말랑 ...', '공부 열심히 합시다 공부 안하면 저런 OO인생 삽니다.', '그냥. 최고다.', '전쟁이후의 아픔을 잘 그린영화마지막 장면이 압권유대인줄 알아 더럽게 여기나 도움이 필요하니동행했던 토마스에게 더러운유태인이라고 말한장면 그러나 유대인인척한 사실 유대인가족사진을 보면서 미묘한 감정들을 사슴인형을 밟아까며 대변한다므찐영화^^', '오랜만에 동화다운 동화를 본 기분이다.', '감사합니다 정말로 감사합니다.', '걍 둘다 변태', '샤넬의 인생과 성공,이 아니라 샤넬과 그의 남자들', '영화가 내용이 없다', '십수년의 세월을 찰나의 순간처럼, 찰나의 순간을 영원한 기억으로 남기는 시간의 상대성 이론에 관하여.', '니노의 이중인격연기 두근거리네요♥', '보다가 울컥핫 영화...재미도 있고...먼가 감동적임', '열정만으로 돌진하고 싶게 만드는 영화.', '연기력에서 유혹하지 못한다', '난감하다. 재미도 없고, 세상을 깜짝 놀라게 하는 센세이션도 없다.', \"아무리 노력했어도 '차이나타운'을 대놓고 베낀 것은 용서가 안 됨.\", '신화 화이팅 에릭 화이팅>< 모두 힘내요 !', '엔딩이 넘 슬퍼요 :(', '영화관에 가서 보면 더 좋았을걸...어린시절로 돌아간 느낌이들어 만감이...', '정말 최고였어요 ㅠㅠ 이민정씨와 신하균씨 연기 너무 좋았어요!!', '몇 안되는 재밌게 본 영화', '교양시간에 보고 좀 충격먹은 영화....마지막에 너무 슬펐다 빨갱이라 소리지르던 몬초가 갑자기 다른 단어를 말한건 선생님에대한 그리움 미안함 슬픔이었을까...몬초가 마지막에 좀 울먹인거 같기도 하고...', '잘봤습니다', '안무서워!! 귀신이 애기라 그런건지,,, 그냥 깜놀하기만할뿐이야', '뭐하자는건쥐... 모든것이 다 어설프고...', '배우들의 따뜻한 연기도 일상의 힘겨움을 그리는 현실감도 다 좋았어요.', '남자배우들 정말 미스캐스팅. 연기력 안습... 조은숙, 김유미 연기땜에 참고 봤다', '1차 세계대전 中 피고 진 청춘들. 무기와 기술력은 20t세기, 전쟁을 일으킨 정치인들과 전쟁을 지휘하는 고위 장교들의 생각은 19세기.', '책과는 분명히 다른시선. 괜찮네요', '내가 이거 왜 봤지 싶은데 한예슬이랑 김태희 나와서 본 듯. 적월도 개 쌤 ㅋㅋ', '솔직히 6점때가 뭐냐 약간 더러운 장면만빼면 7.5정도다', '와 이연서님 신인답지 않은 연기력 잘 봤습니다 다음 작품에서 또 뵙길 바랍니다', '반전이 전부가 아닌영화..몇 번을 봐도 또 보고 싶은 영화', '피해자만 있고,피의자는 없는 ..', '개답답 먼주인공이 지혼자 복수도 못함?주변에서 해주길바라는 민폐녀?아직도 끌려다니고ㅡㅡ', '신선한 소재. 화끈한 액션. 스피디한 전개', '이 영화의 3박자는 디테일이었다. (정말 시가전의 퀄리티는 완벽했고) 남자의 사랑에 대한 묘사... (작중에 한석규는 누군가를 사랑하는 마음은 정말 디테일이 대단했다.) 마지막 얘기의 완급조절이 완벽했다. 이 영화가 정말 멋졌다.', '탕웨이찡 그녀 만으로도 10점주기에 충분하다!!', '감동적인 영화다', '당시 대박쳤던 영화..괜찮다!!', '억지스러운 시나리오..지루한 전개.. 1편 보다 못한 구성등.. 2편은 안나오는게 나았다..망작..배우들이 영화보는 눈이 없어서 안타깝다.', 'ㅋㅋㅋㅋㅋㅋㅋㅋ 반도 안되는 영화', '이 영화가 평점이 높은 이유를 모르겠어..ㅡ.ㅡ::', '평생 기억할만한 영화,정상적인 소재는 아니지만', '요즘 상황 보고 이 영화가 생각났다.', '많을 것을 생각하게 만드는 영화입니다.마지막에 사람들이 짐승으로 보이고 아수라가 사람같아 보였습니다.', '진짜 재미 없는 영화 공통점....스포츠영화,군대영화,자막 나오는 영화', '로버트 드니로의 광기의 복수 연기를 만끽할수 있는 수작 서스펜스 스릴러물', '감동감동감동의 도가니탕', '세계 어디서나 정치 경제 문화 사회 전반에 걸쳐 변화가 절실한 상황이지만 변화를 가져올 방법이 없다는게 함정인 것 같다...', '귀여운벤지.. 똑똑한 벤지 예쁘고 귀여운 친구... 압삘럽 ㅎ', '당시 개봉날 보고 울면서 나왔다. 돈아까워서..ㅋㅋ', '정말 최고의 영화...', '잔잔하게 숨막히는 영화 . 연출이 대단하다. 곳곳에 숨어있는 복선. 치밀하다 싶을정도로 섬세한 감정표현. 거기에 김영애의 연기까지', 'once upon a dream', '시나리오 연출 연기 어느것 하나 갖추지 못한 시간이 넘 아까운 억지 싸구려 중국 신파 경극...', '거부하는 몸짓으로 저 하늘을 ~ ^^', '그만빙빙돌리고 밝혀지게하면안되나요 ?보려다아직도질질끌어짜증나.안봄 여기서또사고터져 또질질끌면진짜짜증날듯 ?빨리빨리밝혀질건밝혀지면서반전이있든지 ?작가님 이드라마사랑하고잼있는데 넘끌어짜증나요', '졸면서 봤다 왜이리 평정이 높은겨 내용도 별거 없고 아오 감수성 영화냐 이거', '기대하지 않았던 영화의 아름다움이 밀려온다. 꽤 괜찮다았던 영화.', '진짜 한번만더 이런영화 상영하면 용서하지 않는다지금 영화보면서 카톡하고잇음 아놔 진짜', '살아는 있지만 생동감을 잃은 박물관', '노땅들의 한심한 추억미화', '어릴적에 눈물흘리며 웃던기억에 간신히 찾아 다시 봤네요 ^^', '인종차별과 유괴라는 두주제의 불협화음', '고명환이 연기가 쩌냐? 아니면 돈이 없어 쓴거냐..후자라면 볼가치가 없는영화', '속편에서는주인공이전작처럼앨빈의밴드였으면좋았을것같다.캐릭터추가로더이상해진듯', '혼자 보긴 너무 아깝다. 2004년 올해의 영화.', '마지막 결투씬 최고! ㅋㅋ 폭풍눈물에~ 팝핀현준 할아버지 ㅋㅋㅋ', 'ㄵ 5점대asfgsdlgkbjsjvb', '좋아 상술최고..아니 선거술 최고...', '쓰레기 함부로 버리지 맙시다.', '글쎄 나와는 안 맞는 성향의 영화 중 하나. OST는 들을 만함', '즐~~~~~', '막장도 재미가있어야 보지..재미도 없고 짜증만 남남녀주인공이 어울리면 참고보겠는데 진짜 안어울리고웬만하면 다 재밌게 보는데 진짜 내가본것중 제일 최악이였음!!무튼 주인공들부터시작해서 성격 개 이상함!!조기종영이 답이다...', '줄리델피는 나이가 들수록 멋지다!', '내가 본 일드 중 쵝오~!!!!!>0<', '역시 명작은 명작이다...', '글쎄요.... 뭐랄까... 영화 제목을 잘못 보고 착각한 내 잘못이랄까...', '그냥 기독교영화네요. 좀 더 깊이있는 내용을 기대했는데.. 실망입니다. 영화도 뭔가 엉성해요;;', '그냥 책으로 읽는게 더 절절하게 다가온다. 영화는 내용을 너무 비약하고 삭제해서 행간을 잃어버렸다. 책에서 꽉 찼었던 느낌과 반대로 모든 것이 엉성하다.', '너무나 감동적인 영화', '스킨헤드성님들이 이 영화를 싫어합니다.', '자동차 매니아인 나의 평점은 5점 이하~속았다...아오~', '나 이거 보고 인형 절대안삼', '정체성은 사치인가?', '나이먹은아저씨들이 일찐놀이하는영화 개역겹다. 알바풀었냐 현실감 개진짜 개제로', '남극은 왔는데 그만 길을 잃었다. 오르지 못할 곳은 오르는 것이 아니다.', '재밌음 귀엽고 신남', '포스터는 진심 개쩐다~ 엑소시스트를 능가하는 공포물 같지만 실상은 처키보다 못한영화', '시청률 44%는 개뿔;; 존11나 재미없어;; 이제보니 MBC가 사극너무못만드네;;', '요즘 재방보는데 넘 재밌는데...왜 시청률은 저조했을까 싶네요...둘다 귀요미', '연출 연기 영상이 아름다운 영화입니다. 저예산영화인 관계로 스펙타클은 부족하지만 한국영화계에 새로운 바람, 희망, 다크호스가 될것임을 믿습니다. 많은 응원부탁드리고 벌써부터 일찍 관람해주신분들 진심으로 감사합니다. New hope', '평점이왜이렇게낮지?난 이거 또다운받고있다.3번째...정말잼있던데...끝에 견자단하고 대빵하고싸울땐 정말 가슴이뜨거워졌다.난정말로 잼있게봤다...최근댓글이니 내가 알바아닌줄은 알거다.', '이게 어떻게 평점이 낮을수가 있지?', '블랙코미디 조롱 대상이 우린데 기분 드러워서 점수 주겠냐? 성기 노출 등으로 어그로나 끌고서는 ㅉㅉ', '촌동네 조폭삼류영화. 가끔씩 툭툭들이미는 유머도 영쌩뚱맞구 촌스럽기까지하다.', '10점 만들기', '스타뎀 형님의 얼굴에 먹칠을 한영화..', '헐...남자몸매보면 기분 좋나?', '안봐도 별점 한개 주고싶은 10류 영화 같다... ㅋㅋ심형래 아저씨와 동급감독인듯 ㅋㅋㅋ', '정말 완벽했다.최고의 영화중에 꼽히는 영화.', '조잡하고 유치한 저예산 3류 B급 영화다.. 스토리에 깊이감도 없고 전체적으로 루즈하다.', '진짜..뭐냐 민국이나 지아는 더빙 더이상시키면안되겠네 더빙이 얼마나중요한데 이런애들을시켜데뷔도안한애들을 연예인이해도 뭐라고하는판에', '그냥 재미가 없어요....ㅠㅠ', '쇼를해라 쇼', '중심이 약하니 언저리 가지고 무리한 승부수를 띄운다', '주연배우들의 이름만 기억에 남.', '그냥 안보는게 이득 ...', '키기키기키기키기키기', '박얘쁜 빠수니 죄다 OO 없어져버려', '진짜 짜증나는 영화..', '불은 잘 보이지도 않고 사람 죽어나갈 때는 엄청난 웅장한 음악만 나오고 전혀 마음에 와 닿지 않는 설정들', '망작', '상당히 재밌게 봤습니다', '내코끼리내놔가 더재밌음ㅋ', '코믹은 코믹으로 봐라 패러디하고 카메오들보는 재미도 있다', '유치짬뽕이네!!. 딱 초등3학년 영화다. 초등학교 자녀 있는 가족분께 추천함!!', '후속 지금이라도 나와라 한국애니 좀 살려보자', 'EBS를 통해 봤는데.. 정말 재밌게 잘 봤어요. 요 근래 본 영화 중 최고인듯!', '기대않고 봤는데, 찰지게 만든 토종느와르네~! 흥미진진하다..', '성인영화를 가족영화로 만드려하는 멍청한 자막제작자가 마음에 안들어서 1점', '일본인 특유의 어색한 연기 여주인공 연기 너무 못해', '전반적으로 무거운 느낌의 영화네요.가비의향과맛처럼,씁쓸함이 느껴집니다.장윤현감독님께서,커피부분에관해 신경을 쓰시다보니,연출부분에있어서,좀 미흡하지않았나싶고, 배우들연기력은 괜찮았습니다.', '전작보다 100 재밌다. 배우, 내용 모두 세련됨', '진지하고 무거운 소재를 경쾌하고 재미있게 만들었다', '유럽작품상 탈만한 유럽에 중요한 얘기..또한 픽션', '풍정정은 어케된거지ㅋㅋㅋ과도한 압축으로 개연성없지만...배우들이 호화로워서...', '이영화 구성좋다는분들 ㅋㅋ아마 친구랑 같이영화보고 님들이 영화 좋다고 재밌다하면 같이본 친구들은 이해하지 못할겁니다 ㅋㅋ진짜 최악 최저 스토리 주인공 행동 개연성없음캐릭간의 이해관계 최악 ㅋㅋㅋCIA갘ㅋㅋ이렇게 허접하게 표현된 영화 간만이라능ㅋ', '이젠 그만 보고 싶은, 막돼먹은 스토리텔링.', '말이 필요 없다.로맨스 싫어하는 내가 봤을때 기절할 것 같았어 ㅜㅜㅜㅜ', '제 취향적 이고 우울한 마음을 완전히 날려버리고 슬픈내용을 본뒤 마음을 정화시켜주네요.', '영상미가 역시 최고네요', '끙.....', '역시 한국영화는 보지말아야돼', '괜찮은 영화...', '요즘 재밌음!', '소재는 참 좋아서 삼점준다. 제작된 영화는 공포도, 스릴러도 아닌 본분을 잊은 드라마아닌 드라마같은 느낌이다. 연기, 연출은 괜찮았다. 다만 시작부터 끝까지 지루할 뿐이다. 또 어떤 장면들은 살짝 유치했다.', '남자인데 보는내내 울었다 딸 낳으면 잘해줘야지...', '안타까울뿐. 안타까울뿐.', '영웅은 사람들이 원하기 때문에 만들어지는 또다른 희생자다..', '그냥 평작. 욕까진안나오고..', '극장가서 안본 내머리를 깨버리고싶네요. 제인생 최고의 영홥니다. 키이라작품 중에서도 최고일듯. 알럽키이라♡♡', '중고생들의 마마추어 포르노', '비디오 물이냐 동시상영물이냐 ~ 넌 정체가 모냐', '이건 말로 설명할 수 없는 유치함이다. 진짜 필름이 아깝다', '이승연의 강렬함이 묻어나는 영화. 그러나 홍경인은 너무 불쌍하게 나옴', \"'드릴브라' 에서 뿜었다\", '2% 부족한 영화가아닌 98%부족한 영화감동이 있다길래 참고 끝까지 다봤는데...;;진심으로 이렇게 재미없다고 느끼는건 처음;;', '계몽영화의 한계를 고스란이 답습한다', '우와 정말 오랜만에 통쾌하게 웃었네요 ㅎㅎ 내일이 기대됩니다', '청춘에는 마침표가 없다.', '세얼간이 아줌마 나와서 한번 본건데 실망...신선한 반전을 주고싶었나 본데 개연성도 없구 뭐이런...', '좋은 소재에 만족할 연출.', '심혜진이 나와서 겨우 저정도라니 실망이다', '아들놈은 끝까지 아빠한테 미안한 감정 없어..ㅠ 소재가 신선했는데 영화 자체는 메시지도 모호하고 스토리가 짜임새 있지 않은 것 같다.', '창업을 꿈꾸는가! 좋은 아이템이 있어 사업을 하려하는가!! 그렇다면 기를 쓰고 이 영활 보기바란다!! 그 멀고 험한 여정에 스승이 될것이요 지침서가 될것이다... 혹은 단념에 도움이 될지도... 참 오랜만에 박장대소하며 본 독립영활세~~~ ★', '슬픈액션영화치고는실망이크다부자간의배신과원망으로끝나는것이너무허무하다', 'EBS 명화에서 이거보고 움 진짜감동적', '낰였다 티 프리미엄ㅡㅡ 인간적인 면이 쫌 맘에 들어서 2점줬다 근데 진짜 이선균 정재영 김상중 연기파배우들 불러노코 이딴 쓰레기 영화 찍냐ㅡㅡ 진짜 영화보는데 계쇠 지루하고 괴로웠다ㅡㅡ', '너무나 따뜻하고 감동적인 영화', 'C급영화도 안되는...일점도 아깝다... 네이버는 마이너스 점수도 만들어 달라', '스토리의 부진은 액션의 재미까지 반감시킨다', '누구나 ㅡ낄수ㅣㅆ느덕을 영화화함...굿,,', '시종일관 오락가락 말하고자하는게 뭔지 모르겠다 감독자기만의 세계에 빠져 만든것같은 영화..', '왠지모를 색다른 감동을 주는영화이다....', '전주영화제에서봤었는데넘늦게개봉한듯... 종교와업에대해한번더생각할수있게만든영화. 저예산으로만들었으나감독의노력이느껴져큰박수를보내고싶다. 화이팅!', '보는내내 웃었습니다 재밌네요', '1', '사랑에 상처받으면 다시 치유될수 있을까? 하는 생각이 드는 영화!', '극장가서 본영화중 쓰디쓴아픔을 처음으로 느끼게해준 퍼스트', '최고! 더 무슨평가가 필요한가 ~~탑!', '자신의삶에대해 다시한번 생각하게하는영화...', '알바놈들 양심도 없냐...멀보고 십점주는거냐', '90년도로 돌아가게 해준다는 ㅡㅡ', '끼워 맞추기 개쩔던데, 반전 하나 보고 와 하는 인간들 이해 불가', '우웩. 개랑 무슨짓을 했길래. 후세가 태어나. 일본놈들 진짜 정신상태 이상하네.', '4', '이 영활 보고나면 흐뭇해진다.. 영화는 한국이 더 잘만든다는 걸 느끼게 되니까..', '지들이 뭔데 대우를 까냐?', '재밌고 짠하고 그게 매력입니다', '와 ㅠㅠ 내머릿속지우개 이후에 진짜 슬픈영화였어요 ㅠㅠ 마지막에 눈물폭발 ㅜㅜ 오늘이후에도 또보고싶네요', '월요커플 짱짱!! 덕분에 아주 재미있게 보고 있습니당!!', '007 터키특집..액션은 스키추격이 기억에 남고. 소피의,소피에 의한,소피를 위한 시리즈..로저무어 시절보다 재미는 조금 떨어진다', '수많은 최루성 멜로는 여기에서...', '내평생 최고의 걸작. 현실 건너편 세계를 잠시 엿본듯한 느낌.', '내 인생 최고의 영화', '진짜 추천해요 ^^', '포스터가 사기. 너무 현실적이어서 배우들은 심각한데 빵빵 터지는 화성남 금성녀. 아 슈발 지는 혼자 내리면서 본전생각에 담배 피는 남편.', '머가마술이라는거야?나죽기전에외계인만나볼수나있을지?', '참 재밌는 영화 ㅎㅎ', '빨리좀 끝나라...으이그 처음엔재밌는줄알았는데이게뭐야!이리재미없다.', '극에 전혀 몰입안되는 장면 이어붙이기식 단순 진행,연출력이 형편없음.', '자막제작자가 써놨듯이 막장임.', '그리 무서운 수도승이 물에 쉽게 떠내려가네', '이게왜 주온보다 평점이높은지 이해가안간다 이영화 맨처음 여배우가 물대포쏠때부터 웃겻다 포스터가 더무섭다 영화상영시간내내 포스터만보여줘도 충분히지린다', '진짜 신기하다...라는 말밖에 안나와', '좋은 배우들을 데리고....;; 작품의 부족함.', '아니 왜 5점대라니, 근래에 본 다크 히어로무비 중에서 최고였어요. 아주 그냥 고스트라이더에게 걸리면 스치면 사망인거에요.', '묵직하게 시작해서 우습게 끝남', '내용 전개가엉성하고지루할정도로 재미가없슴', '돈뭉치로 싸대기;; 명장면이다ㅋㅋ', '2.2고고하자 ㅋㅋㅋ', '쓰레기영화', '너무일찍슬픔을알게된제제가안쓰럽다..책으로읽고도눈물이났는데..영화도마찬가지다.어린나이의제제는슬픔을너무일찍알아버렸다', '정말 비디오마저 돈주고 보고 아깝다..최악...', '말그대로 뚝방에서 볼영화', '내 인생 최고의 영화. 10년이 다되가는데, 아직도 아련하고 애틋한 기억.', '감독ㅡㅡ다신영화찍지마라', '육감적인 섹시한 여인들의 존재 자체가 이 영화의 전부', '영화 첫 도입부 부터 카메라 각도라든지 화질이라든지 겁나 구림.. 영화 아닌줄 알았음', '진정 좋은 영화란 볼때당시 잼있다... 도 있지만.. 두고두고 기억나고생각나고 또 한번쯤 보고싶은 이런영화가 아닐런지요 ㅋㅋ', '박사아들 정시현 정말 멋져요', '1편이 너무좋아서 2편이 너무묻힌다', '할 말이 없다', '난 별로던데 -_ -', '이런 영화가 참 좋다.', '곳곳에 번뜩이는 아이디어. 아기자기한 구성이 돋보이는 수작.', '우아....새벽에보니까 무섭네 ㅠ_ㅠ 미스터리와에로스와 스릴러를 겸비한 영화!', '짧지만 정말 재밌게 잘봤어요~. 윤계상 능청연기 좋구 잘됬으면 하는 생각을 계속 했네요~ ㅋㅋ', '에린이 초반에 타던차 현대자동차 프레스토 네요. 보면서 추억이세록세록', '남들이 철학적인 영화라고도 하지만 단순 액션용으로 봐도 이 정도 점수는 나와야된다', '4.444.444.444.444.44', '효과음이 기가막혔던 영화', '솔직히 평점 8점 이상은 되야되는거같다.', '난강혜정이 일본가서 찍은건가 했네ㅋㅋ닮은것같다는 생각이 들었을 뿐이고...', '일본영화 좋아한다면 꼭 봐야할 영화!', '진짜 이건 아님ㅋㅋㅋㅋㅋ액션영화좋아해서 액션영화만 다운받아서 꾸준히 본게 벌써 몇년인 사람임 근데 이건 진짴ㅋㅋㅋㅋㅋㅋ아무리 점수 잘 줘도 100점 만점에 10점?ㅡㅡ돈주고봤는데너무아깝다진짜ㅜㅜ그리고대체 왜 13구역 타이틀을 달고나왔는지 모르겠음 실망', '가슴이 먹먹하다, 뷰욕을 왜 이제서야 알게됐을까', '커스틴 때문에 좋겠다', '보는내내 찝찝하고 영화가 끝나고 나서도 불쾌했다.. 중년의 남성이 이렇게까지 추잡해보일 수가 있을까..', '진짜 퀵이유로 이렇게 어이없고 재미없는영화는 처음입니다 진짜 돈아까운적은 두번째라', '진짜재미없다..영화관에삼십분정도늦게들어갔는데사람이한명도없고..그이유를왠지알것같네..^^완전비추요', '2012년에 본영화인대 솜이랑 키작은남자 살아서 나감', 'ㅋㅋ 조금은 유치했지만 왕조현 주윤발 이것만으로도 충분히 볼만했다.', '난 솔직히 재미없었어. 코믹요소가 없어서', '싸구려 왜색 영화, 키작고 교활한 일본원숭이들의 망상, 사무라이 정신..토나온다...', '재미있게봄 감동적이고', '아니 찍어놓고 모니터링 한번 안하나 어떻게 염치 업이 이런걸 극장에 걸수가 있지?', \"영화'산업'이라고 하잖는가? 이딴식으로 홍보 해놓고 속여서 팔았다는 게 소비자 입장에서는 짜증난다. 그나마 다행은 아주 싸구려를 상급품으로 속여판 게 아니라는 점. 그래서 1점. 차라리 연상호 감독 작품 처럼 홍보가 됐다면, 그 비슷하게 만이라도 하지\", '완전 감동이다 ㅠㅠ 박신혜 짱이뻐요 ㅎㅎ', '절망속에서 결국 빠져나온 눈물겨운 실화', '국민학교 다닐때 이거 동생이랑 보다가.... 눈물이...ㅋ', '욕망이라는 이름의 전차.', \"'디 워'랑 같은 부류.. 저예산 + 저렴한 CG + 마구잡이연출\", '무기여 잘있거라는 보는 내내 손에 땀을 쥐고본 첫번째 애니', '배우들 연기력이 아깝다. 별 한 개도 아깝다.', '딱 90년대코미디영화', '어릴때 진짜 재미있게 봤음ㅋㅋㅋㅋ', '정말최고의영화고 마지막 아이들의 노래와 비행기가 정말 잊을수 없는 여운을 남긴다.이런 영화를 이제알게된것자체가 후회될정도로 잔잔하고 깊은 여운이 남는 영화.', '보면서 어이없어서 헛웃음만 나던....', '악역인 금단비가 더 주목받았다는것은 주연여배우들의 미스캐스팅을 의미한다', 'General', '보고 나서도 내내 여운이 남는 영화..', '절대로 보지마라 보면 후회한다!!이걸영화라고 만든거냐!볼사람은 뇌를 놓고보아라!', '무슨 내용인지 도통 모르겠다... 쓸데없이 특별해 보이려는 시도에만 열중이었던 영화.', '기쁨, 슬픔, 생명 그리고 죽음. 인간의 역사속에 거대한 하나님의 우주적 섭리가 느껴지는 영화. 특별히 어머니의 역을 맡은 여배우의 여성미와 자애로움이 인상적이다. 인생을 살면서 그런 존재가 된다면. 영상미 예술이다!', '이게뭔가요내용도없고', '평점 어마어마하게 높네;;;; 빨리 낮춰야 할듯 5점이 적당한 영화.', '이야기도보통재미있고. 10점정도는아니라고봐요.5점6점정도인데 고릴라제작한거도 잘했긴했고.하지만 감동은 보통..아쉬운결말', '솔직히 웬만한 공포영화는 다 섭렵할만큼 매니아인데. 주온은 정말 무서웠었다. 아직까지도 샤워하면서 머리감을때 공포를 느낀다. 누가 나를 쳐다보고 있는 느낌이라서... 이 느낌 나말고도 겪어본사람 있을거야. 그만큼 당시에 대단했던 영화다.', '아름다운 영화였어요', '정말 광해와 비슷한가?', '조쉬 하트넷 특유의 여성들을 자극하는 나약한듯하면서도 남성적인 이미지를 작 부각한듯', '정말 속은느낌이다', '몸매,베드신 보기좋다고 한사람은 영화 안본사람', \"잘봤어요 외모뿐만이 아니라 여러가지들을 따지며 사랑에 빠지는것이 아니라 '하려고' 하는 요즘 사람들에게 좋은 영화인거 같아요....\", '최악의 쓰레기. 어설프려고 정말 노력했다', '콜린파렐. 123412341234', '난이게 제일 재밌었는데..', '난 좋았는데요..... 괜찮았어요', '영화보다 댓글이 더 재밌어', '에라이 미친 사이코 드라마야!!!', '모든 일본문화가 들어가 있다고 할 수 있을까? 최고의 사극!!', '엄청나게 기대를 하고 본게 아니라 괜찮았던듯?', '더빙이 똥이야 ....', '안타깝네. 이해를 못하는사람들 속출. 불교적이고 철학적인 작품.', '진짜 이런 개 씨,1바ㄹ OOO 같은 영화 개 시간낭비 의미도없고 무섭지도않고 내가 왠만하면 공포영화는 즐겨보는데 이건 진짜 OOOO같다', '색다르고 재밌는 영화였음. 실제로도 이런 일이 있다면 참 재밌을 것 같음. 막장 of 막장.', '어캐봐여? 꼬옥~~~~~~~보고싶내여~~~~~~~~~~~~~~~~~~~~', '정말 식상하다못해 촌스럽기까지 ~~~~~~~~~~', '종교적 분위기 물씬 풍기는 최루성 가족영화', '재밌다', '그냥 살지 그랬어.. 이성재만 멋짐', '음악영화라 나에겐 취향저격이지만... 비긴어게인처럼 대중적으로 흥행하긴 힘들 영화네요.. 하지만 여주가 너무 매력적이에요 ㅎㅎ', '별 0개 선택 왜없어요? 솔직히 별 반개도 아깝다', '돈에 미친 남편과 .. 아기에 미친 돈 있는 남자 그속에서 갈등 하는 여자 18', '어린이의 시점에서만 볼만하겠지. 오로지 어린이의 시점.', '잠을 청할 수 있었다.', '좋아하는 사람의 뇌가 아니던가?.. 완전 난해함.. 결말 왕실망임', '전작에 비해서 왠지 허탈하다. 카이사르도 전작이 더 멋있는 듯 하고...', '김민종 최고! 더 잘되시요', '공격적인 재미, 유순한 여성성, 일기토, 지략 삼국지의 그것과 맞짱!', '-점수를 주고 싶다. 2003년에 이정도 밖에 못만들었다는게 충격...', '비디오테잎으로 좍좍 감아가며 봤던 영화. 가장 슬펐던 영화', '도입부를 제외하고는 따분.헬기에서 민간인을 마구 쏴 죽이는 미군, 베트공 여성 스나이퍼 등,현실감 없는 극단적인 설정.라이언 일병에서의 업햄 그리고 이 영화 주인공인 조커, 두 넘 모두 내가 싫어하는 캐릭터, 착한척 하면서 주위에 피해를 주는 넘들.', '재밌는데...나만 그런가? 참고로 우리나라 까거나 하는건 하나도 안나옴 그냥 지들끼리 소설쓰고 지들끼리 자위하고 자위대도 등장하는데 그사람들도 자위나 하고 있음 일본 감정 다 떠나서 과학도로써 과학적으로 볼만한 영화였음 신선함', '제 취향은 아니네요~~~~', '평점 조절...', '1점도 아까운 쓰레기영화 전작이 아까움', '일편에 비해 삽질하는 브리짓이 쪼~끔 짜증날 때도 있었지만 그래도 여전히 사랑스럽다ㅎ 콜린 퍼스와 휴 그랜트를 한자리에 모아놓은 것 만으로도 10점줘야함!', '지금까지본 아이리스 시리즈중 최악이다ㅠㅠ 이거해도 너무하는거아닌가...수치스럽다. 연기고자시고 다 떠나 너무도허접합....', '연기력때문에 할말이 없다. 정우성과 고소영이 왜그토록 흥행작이 없는지 알고싶으면, 비트에서 연기하는거 봐라.', '전라도 노예 업주 처벌 안받았나요?? 이슈가안됐네요 그러고보니..', '배우가 아깝다 ,,', '볼만 한데', '결말의 의미공자가 자연에 숨어사는 노자에게 말했지. 짐승도 끼리끼리 사는데 사람이라고 따로 사냐고 진정 순수함은 더러운것사이에서도 그 빛을 유지하는것 ·', '크리스 터커 짱이삼! ㅋㅋ', '믿고보는 덴젤와싱턴. 근데 모레쯔는 왜이렇게 후덕하지...', '나오코 진짜 집중안된다', '감독이 밥은 먹고 다니는지 궁금하다. 배틀로얄2 이후로 최고 쓰래기.', '아 재미 너무 없네요.. 시간 아까워요', '난 잼있던데..ㅎㅎ', '어떻게 상류층의 속물근성을 정당화시키면서미화시킨지 모르겠다. 감독이 국회의원이나 사회적 강자한테 아부하고 싶은 가봐요 그리고 얼굴만 예쁘다고 왕되는것은 맞지만 드라마라도 도덕적으로 표현좀 해야되는게 아닌가요 감독님 정신차리세요', '가만히 보고만 있어도 씨익 웃음나는 행복한 가족의 이야기', '사고 후 잠시 정상인이 되었던 일탈', '좋은 영화~', '이거예전에나온거같은데 재미네', '샬라샬라 나오다즁자쥬아', '......감독의 옹졸함과 치졸함이 묻어나는 영화', '팔빠다 ㅋㅋ', '재미없음 -_-', '무슨 생각으로 만든걸까.', '스토리도 흥미롭고 배우들의 연기도 인상적이다. 충분히 볼만하다!!!', '내 인생 최고의 미드!!', \"이 영화를 보고 '사랑하고 싶다' 라는 생각을 했습니다. 청소년 관람불가임에도 선정적인 장면은 나오지 않았습니다. 연인 혹은 솔로이신 분들에게 추천합니다.\", '일본공포영화는 링 주온 이후로 망했음', '지루하다.. 지루해..', '625를 직접 겪은 어르신들 얘길 들어보면 그당시 잔인한 학살은 대부분 주민들 서로간에 (주로 하층민들의 복수심에서 비롯된) 또는 군/경이 빨치산 학살한다며 벌인 살인이었지 정작 북한군은 민간인들한테는 잘해줬다고 하던데?', '그냥 다큐일뿐 ..', '10점짜리 영화는아닌데 개인적으로는 평균평점 7점정도의 가치는 한다고 본다 스타일리쉬한 영화 ㅋ', '정말 질질끌고 작가님제발좀 적당히하시죠은희수역맡은 사람도 그만 나쁘게 만들지아침드라마가 막장이네', '으이구 괴물 그래픽이나 좀 다듬지 그게 머니 다 티나게 공포영화보다 웃은 건 첨이다', '대표적인 쓰레기 김치드라마', '네이버 별점, 꽤 신뢰도가 높네요.5점 이하는 안보는게 좋을듯..', '남주 헤어스타일 왜 저래...? 가게분신노찌쯔!!!!', '이런영화는 두번봐야지 안다 작은 일에도 크게 화를만드는 저나라의 국민이 인상깊다', '김명민이 약 구해서 차 탔을 때 진짜 설마설마 했음', '보지말아라 재미있든 재미없든 진짜 찝찝하고 기분 드러운 영화공포영화 싸이코 영화...', '짝퉁쓰래기', '이거 시청률이 너무낮은대 명작이고만', '현실감 제로지만 배우들이 너무 좋았어요. 특히 다니엘헤니를 많이 볼 수 있어 좋았어요. 같은 남자지만 게이는 아닙니당. 다니엘헤니 최고. 설경구 씨두 최고!', '프레디가 나에게 모욕감을 줬다 그래도 프레디라서4점준다', '잼없네요넘', '평점이 너무 높군요. 원작으로 보심이 나을듯. 짧은 러닝타임에 감사하다고 해야하나. 주인공이 썰매를 타고 목적지에 가니 모든 사람들의 기억이 돌아온다는 황당한 설정이고 인간의 감정을 통제한다는건 데몰리션맨, 이퀄리브리엄에서 봤기때문에 신선함도 없음', '막장 드라마의 원조격인 영화... 근데 이 영화는 확실히 로즈번이 살린듯', '해군 출신이라 관심있게 본 영화~', '파란색 슬픔이 영화에..', '액션 완전 OOO기..차라리 유오성이 나오는 챔프를 보겠다..;;', '폭풍오열ㅠㅜㅠㅍ퓨ㅠ', '착한영화... 그리고... 재미없습니다', '사소한 이야기조차 눈을 뗄수 없게 만들던 거장의 솜씨. 예전 장이모우 그립다', '내가본영화중 베스트5안에 듬 진짜꼭보세요', '지금까지 본 페이크다큐영화중 제일 별로...', '재미도 있고 공감도되는 누구나 즐길수있는 독립영화 !!!', '\"시미즈레이코의 만화책\"\"비밀\"\".에서 영향받은거 아냐? 똑같애\"', '기존 한국 영화에서 느끼지 못한 색다른 느낌상업적이기 보다는 새로움에 도전한듯한 ..', '장난하나--반전같은거 있을 줄 알고 끝까지 다 봤는데 진짜 아오..시간아까워', '예고편을 왜 하는건지 모르겠음.. 예고편에 나오는건 하나도 안나오고.. 예고편은 대판 쌈질 하는것마냥 나오더니 하하호호 하고 끝남.. 예고편이 무슨 뜻인지를 모르는건지.. 시청자들을 호구로 보는건지..낚시질좀 그만하시고 차라리 시청률 걱정되면 폐지해', '난 프랑스 영화가 이래서 좋다..', '쓰레기쓰레기쓰레기쓰레기쓰레기쓰레기쓰레기쓰레기', '참 재밌게 봤는데... 귀여운 지미 +_+', '시간이 지나서 또 봐도 정말 가슴애린 드라마......ㅠ.ㅠ', '사촌동생들 때문에 같이 보긴했는데 정말.. 사촌동생들도 재미없다고 하네요', '설득력없는 꼴통페미니즘. 페미나치적인 마인드.', 'B급을 지향하는 C급 작품.', '음 잘 모르겠다 뭘 봐야 하는 건지 소녀 가장 이야기인가', '우리와 틀리다고 생각했던 장애인이 우리와 틀리지않단것을 알려주었다.10403', '재밌고 감각있고 쿨한 영화였는데.마지막 결말이 약간 아쉽지만', '그냥 재미없네 보던거니까 마저봐야지 이랬는데 갑자기 원주민생활하는건 진짜 어처구니가 없었음이건 그냥 영화가 아니다', '진짜 언제 90분이 지나갔는지 모를정도로 몰입해서보고 정말 너무 재미있게 봄... 너무 아련해서 영화 평 정말 처음 남겨봄.. 진짜 내가 이 나이에 애니를 보며 이 밤중에 이렇게 울줄이야.. 에몽아ㅠㅠ', '사과해요, 나한테!!!', '골목상권에 들어온 대형슈퍼마켓이 생각난다', '평점 조절이 필요하다 라는 생각이 든다!', '무협 멜로의 걸작 ... 말해 모해', '너무재미있게 보았는데요 다시 볼수없을까요', '오글거리고 유치하고 완전최악이었음...', '절대비추.....', '한국껀줄알앗는데 일본꺼엿네 ㅋㅋ', '꽃 한송이 놓고 갑니다ㅋㅋ', '내 삶의 가장 의미있는 일 중 하나라면 바로 이 영화를 봤다는 것이다. 살면서 죽기 전에 한번 꼭 봐야 할 영화.', '생각보다 볼만했음ㅋ여주인공이 연기가 좋네여', '자꾸 뭘 설득할려하고 설교할려고하는게 보기거북하다. 그리고결혼반지를 위해 범죄가담하다니 무슨 개역지설정이냐.', '와...', '제발 전문성우를 써주세요 ㅠㅠ', '살면서 처음 접해본 장르라서 조금 당황스럽다. 솔직히 영화 자체는 100% 자신의 색깔에 충실했고 완성도 역시 뛰어난 편이지만.. 좋아하지도 이해하지도 못하겠다ㅋ', '오늘 아이데리고 봤는데...아이는 좋아하데요...ㅎㅎ 미취학, 초등 어린이에게 추천~', '이것을 끝까지 참고 본 내가 제일 자랑스럽습니다.', '존내재밋습네다', '안봐도 되는 영화.', '원작 망쳤네요', '그냥 주는거다. 5점은 아닌 듯', '나쁘지 않으나 개인적으로는 지루했다는.', '어의없는 스토리.. 여자죽을때 웃음나옴.. 로맨스영화냐?', '순수함이 두근거려 좋았다 감독님은 관객들이 뭘원하는지 잘아는듯..여운이 많이 남는다', '기방난동사건이후 최악의 영화 .재밌다는 사람들 믿고 봤더니 다 알바생인듯 ... ㅜㅜ', '로맨스와 스릴러 짬뽕놔서 뭘 말하고 싶은건지.. 스토리도 허황된 느낌', '이건좀 아니잖아...', '윤아은 안됨!!원작자님 캐스팅에 참여해주세요작품 망치면 안되잖아요', '지금생각해도 내가본영화중에 이영화는 내생애 최고의영화였던것같다', '천녀유혼1,2에 비하면, 뭐라 표현하기 힘든 퀭한 영화', '불륜을 미화한 영화 남은사람들은 어쩌라고 또 돈걱정 따위 안하는 사람들의 이야기를 공감하라고 강요하는 영화 음악이랑 영상미로 3점', '최고다....... walk like a man 이란 노래는 원곡보다 영화속 노래가 훠~~얼씬 좋아요', '소재가 굉장히 신선했다', '내사랑 키아누 ♡.♡ 리브스 ♡.♡', '두말할 나위없이 최고의 작품.인생에 대해서 생각해보게 하는 깊이있는 영화.전 출연진과 제작진에게 큰박수를 보낸다.', '솔직히 산만 하기만했다', '말이필요없지.. 성룡영화에선.....무언가를다른것을느낄수있다', '화학을 해서 그런지 잼잇게 봣습니닼ㅋ 옆에 친구 중간중간 노이해.... 나중에 해석 ㅠㅠ 잼잇엇숩니다', '아직 준비되지 않는 젊은영화인들여 함부로 장편에 손대지 마라천천히 공부하고 나와라', '으엉 간만에 추억돋아서 봤는데사실 원작 자체도 두서없이 전개되는데영화감독은 내용앞뒤도없이 막 잘라서정신없음ㅇ배우들은 책읽고 특히 대사 그대로 살린거 오그리오그링ㅋㅋㅋ간만에 소설로 읽어야지', '개 쓰레기같은 것들아 감히 파라노말엑티비티를 팔아먹냐', '기억은 조작되기 마련.. 그사람이 아니고서는 함부러 말하지 말자', '재밌게 봤습니다,, 그저 문헌에 적힌 문란한 사도세자가 아닌, 정조의 아버지로서 그 그릇이 어느 정도였는지 잘 보여준 작품이 아니었나 싶네요 시나리오도 시나리오지만 배우들 연기가 일품이었습니다', '휴일낮에 침대에누워서 티비보다가 영화채널에서 틀어주길래 어쩔수 없이 봤는데 나중에는 벌떡 앉아서 봤던 영화.!완전 몰입되고 나름 스토리도 치밀하고 해리슨 포드다운 액션- 좋습니다. 저는 영화광도 영화 평론가도 아니고 영화 자주보는 일반 남자사람임', '절제의 미학이아니라.. 지루함의 극치가 되버린 안타갑다..', '영화관에서 보기엔 돈아까웠다;;;;;....... 솔직히 재미없었다 ㅜㅜ', '인간의 솔직함을 보여 주고 싶었는가..이런 방법말고도 다른 방법이 충분이 있을텐데?', '정말 사랑에 대해 다시생각한거같습니다 감동이에요', '내용은 교육적이나 정말지루해서요ㅜ', '꿀잼! 특히 소유랑 서인영ㅋㅋㅋㅋ매력터져', '태어나서 본 영화중에 제일 재미없었음', '화면을 흑백으로 바꾸기만 하면 50년대 작', '쇼핑몰 안에서만 찍어서 너무 재미없고 답답한..내용도 없다.', '진짜 쓰레기영화.. 돈아까워 죽는줄 알았다.. 여러분 보지 마세요', '와아오 두근두근~ 익스트림자체', '폭력영화, 자극적이고 실험적이라고 예술인가?', '일본영화랑 비슷한건 저만 느끼는건가요??수트입으면 미남으루 변하구 마지막에 평생입으라구 권유받구...창조가 이렇게까지 중복될수 있눈건지...잘 모르겠네여', '진짜 이렇게 재미도 없고 감동도 없는 영화는 처음이네특히나 박사고 나발이고 모든인물들이 컴퓨터 할때 손찍는데키보드 누르지도 않고 ㅋㅋㅋ컴퓨터 화면들은 똑같은 파트만 무한 반복되고허접해도 너무 허접하네... 배우들 연기도 개떡이고 ...', '최고의 농촌드라마.', \"독립영화 실력자들의 스타 리그, 옴니버스라는 피로감이 극복되는 수준이다. '얼음강'은 단독 장편으로 만들었어도 좋았을 듯. 주인공이 혹여 - 평소라면 1%도 공감 안되는 - 여호와의 증인이라도 납득이 될 정도로 감정을 설득하는 솜씨가 탁월하다.\", '좀비좀비 그러는데 좀비아닙니다. 우주의 아름다움에 미쳐버린 인간일뿐 충분히 가능한 일이죠', '개재미없음 막장스토리 어거지 ㅋㅋ', '뭐하나 흠잡을 것이 없다. 최고!', 'OST가 좋은 영화!!', '탁재훈나오믄재밌는데와이라지스토리중반부터너무쳐짐약해약해약해~지겨워뒈지는줄알', '서스펜스도 없고 스릴도 없다.', '우리나라 정서하고 안맞다`~', '어디선가 많이 본 흔한 스토리', '최고의 드라마....', '우리 모두는 누군가에게 섬머였다!', '힘알이 하나 없는 주인공들..맥이 다 빠진다.', '너무너무귀여운영화', '전형적인 일본식 엽기 괴짜 코메디. 그 특이함에 끌리는건 왜지', '와 이걸 5점 이상 준 사람들은 뭐지. 나루토 극장판 중에 가장 쓰래기', '정당한 노력이란 보상받게 마련이다.나름 일정 성취가 있고,좋은 결실을 거둔 작품.', '아씨 울었다.', '기적은 이미 일어났다.', '아이들과 함께 보기 좋았지만, 그냥 그래요.', '전율을 느꼈다.', '여기저기 지저분한내용에 이기적인 사람들의 역겨운 연애사...마지막으로 갈수록 시청률 안나오니까 막 갈겨쓴내용...', '별로...완전별로....마지막빼고 넘 유치하고재미없고 ..', '세월이 지나서 다시 보니 뭔가 먹먹함이 다르더군요. 공감하는 사람이라면 가슴속에 명작으로 남을 듯...', '아이들이 보기엔 좋을지도?', '보니까 선정성이 좀 15세 같음:::: 그래도 액션은 좋음', '카타르시스를 느끼기에 충분한...값진영화였다..', '여주 린제이 로한 닮았다. 전체적인 분위기나 배경은 좋았지만 내용은 지루했다.', '당신이 솔로가 아니면 이 영화를 보지마세요.', '남이 차안에서 전화통화 하는걸 90분 가까이 구경하고 있으라고? 폰부스는 명작이라 생각하지만 이 영화는 진짜 장난하나', '전형적인 저질영화', '답을 알려고 하지마라.', '재미잇음매우~~', '진짜 잘 만든 수작', '제발 2좀 찍어주세요. 현기증 난단 말이에요', '너무나도 따뜻한, 마음이 따뜻해지는... 한번쯤 자신을 되돌아보게 만드는 영화', '뭔가 조금씩 부족한 영화 놀래킬려면 확! 놀래키던지 어정쩡한 -_-;;', '이거 참...소재는 참 좋은데 내용전개가 개판...사람수도 많고 총도 있는데 그걸 지들끼리 서로 다 흩어져서 일방적으로 밀리네..거기다 식인종이라면서 표현을 좀비로 해놓으면 어쩌잔거야..식인으로 인해 인성이 말살되고 짐승화 되었다는 표현이라도 있던가', '포스터만 그럴싸하다. 13구역이라는 이름만 가져다 쓴 영화. 완전 졸작이다. 액션 신도 개허술하고, 스토리도 이상하다.', '대체 왜 재미없다는거지;;난 존나재밌던데', '늑대들의 여정이 너무 낭만적이었던 애니 스토리도 좋지만 음악은 일본 애니중에 탑으로 뛰어나다', '미국 흑인 민권운동사를 완벽하게 요약했다.', '그가 뛰어내리지 않았다면 어떻게 되었을까', '8점대는 나와야지. 그냥 단순한 액션공포물이 아닌데도 긴장감 공포감 연출 쩔고 음악도 좋고.. 몇년이 지나도 기억나는 인상적인 좀비물인데. 평점 너무 짜서 10줌', '아역 연기는 좋았으나 내용은 쓰레기', '진짜....재미없다 극장에서 볼거없어서 걍 스릴러라길래봤는데ㅋㅋㅋㅋㅋㅋㅋㅋㅋ웃음밖에안나온다 혹시나해서라도 절대보지마라진짜제발', '평점은 믿지마셈 재밌음', '이거 좋다는 놈들은 뭐하는 것들이야 ㅡ.ㅡ', '이게 21c영화냐? 90년도영화냐? 쓰래기들아', 'ufo를 믿으려는 자들.', '너무 구식으로 웃길려고 함. 보는 내내 지겨움', '이런거 좋아하는 사람들 정신 세계가 궁금하다..', '연예계의 현실을 알리고자 하는 마음은 알겠지만, 영화의 재미는 없었다. 지루해 죽을뻔 했음.', '아주 재미있고 책으로봐도 정말재미있다~~', '..........끝내주게 재밌다.', '유투브동영상을 돈내고 보는게 낫다는 생각이 들게한 영화', '아쉬운 점도 있지만, 스토리에 맞는 분위기나 배경, 지하철기관사의 삶 등을 잘 묘사', '스타워즈 1편과 맞아떨어지도록 잘 만든영화 최고의 에피소드 다스베이더의 탄생과 루크,레이어의 운명을 알수있는 레전드', '소희가 귀엽다 귀엽다 졸귀', '소문난 잔치(호화 캐스팅)에 먹을 건 없다', '주성치 영화 최고의 졸작', '구우우웃~~!!!!', '딱히 흠잡을 것도 두근거릴 것도 없는 교과서적 플레이.', '영화의 중심은 역시 스토리인것을. 반전의 반전 너무 재미있다.', '8.3이 아니라 9.3 이 아닌가?', '참 재미있었다. 연기를 발로 하는 삼류배우들 얼굴보면서... ㅋㅋㅋ', '재밌군', '이것도 재밌는데...ㅋㅋ', '1점도 아깝다 평쓰는 것도 귀찮다 보는 내내 오글거려서 손발사라지는 줄 알았다', '기대 안하고 봤는데... 영화 보는 내내 몰입해서 재미있게 봤어요~~', '유쾌함과 스릴러적인 요소가 잘 어울려진 명작. 후속작 보다 훨씬 매력있음. 두고 두고 간직해두면서 꺼내보고 싶은 영화.', '좋네..괜찮고.', '명작. 너무 좋았던 드라마. 스토리, 캐스팅, 연기, 음악, 연출 모두 완벽했던.', '괜찮은영화,,영화도괜찮았지만 나영언니완전머싯고예뻤음ㅠㅠ', '일단 재미있다 ! 고래 몇마리로 국가적으로 호들갑떠는게 오버스럽겠지만 그런 모습이 우리는 모두가 도와가며 살아야하는 지구의 생명이란 메세지는 참으로 감동적이다.', '지금 첨봤는데 1회만 봐볼까하고 봤다가 주말 밤새완주하였다. 여운이 많이 남는 드라마', '애니메이션 뮬란이 아쉽다. 전쟁씬도 그렇고 연기도 그렇고 이야기도 그렇고그저 그래', '기대않 하고 봣는데 진짜 내용도 좋고 재미도 있네요!!', '좋았다', '슬픈 맑음. 파문에 주목하라.', '김윤진 좋아하니깐...♡', '재밌따!!', '무리수가 되어버린 코미디 기획상품.', '나홀로집에와더불어 나의최고의영화..', '나는 떠올랐다 그옛날 국산애니 (아마겟돈)의 악몽이', '완전 역겨운 쓰레기 영화다 기술적 수준을 떠나 각본이 무개념', 'sunday booldy sunday........., 고결한 신사들께서 무슨 짓을 하셧을까?', '캬.. 개안음..ㅎㅎㅎㅎ', '보는내내 너무너무 재미있었음', '김소현 팬됬습니다....너무 재밌음', '삐에로와 흑인남자와싸웠을때 재미있었다 ㅋㅋㅋ아웃겨', '유럽영화가 이번정부에 많이 들어와 즐겁긴하다만 그 내용들이 왜 이리 진부한걸까,,,,,,,,,,,,,,,,,,,,,,,,,,,유럽영화를 욕되게 하고있단 소리다,,', '왠만한 허접영화도 재미있게보는데 이건 도를 넘어섰다', '어떤 누구도 다른 이의 삶과 죽음에 대해 왈가왈부 할 순 없다.', '굿굿굿 또해라또해라 제발 ㅠㅠ', '주님께서 부르셔서 제가 여기 있나이다.', '미성년자가 돈많은 아저씨에게 순결을 바치고 데인후 결국 정신차리고 공부해거 명문대가는 진부한 결말', '정말 재밌게 봤고 빈센트도 꼬마도 연기 너무 잘하네요. ㅎ', '솔직히 원작보다 훨씬낫다 원작 무슨 인간이 말도못하게설정해놨어', '말이 필요없음,,, 아 진심 개재밌다ㅠㅠ', '보니까 이양반이 다세포소녀 감독이네', '굿 잡!!! 친구랑 또 보고 싶네요!', '재미진짜 흥하네 근데 yang**** 이새끼 관종인가 ㅋㅋㅋ', '야경꾼보다 엉망지루함', '예원찡... 그만울어....', '근 5년동안 본 모든영화 통틀어서 최악의영화..시간이 남아돌때 봐도 시간이 아까운 역대급 쓰레기영화;;', '감동이다.. 참고로 이 영화 보신분들 마지막엔딩부분에 자막으로나오는부분잇죠? .. 이게 영화상에서 실화라는거지 진짜 레알 현재 실제로 실화라는말이아니에요.. 전지현이 피디잔아요 다큐찍는거 ...그 다큐에서엔딩장면이지 진짜 실제가아니에여.. 쨋든', '달기지...미니어쳐 티 팍팍 나던데...우뢔매 보는줄 알았다...혹시 특수효과 감독이 심형래?', '재미 드럽게 없다ㅋㅋㅋ', '야 세르게이!!! 작은 고추의 매운맛을 보여주마', '정여립과 정철, 기축옥사까지.. 스토리 탄탄해서 좋습니다. 배우들도 연기 참 잘하고 남녀주인공들 케미도 좋고! 챙겨 볼 수 밖에 없는 드라마ㅠㅠㅠㅠ', '개OO영화네요....내용도없고 그냥심심해서만든영화가..', '두개는 줄려고 했는데 알바가 많아서. 아후 볼거없어서 채널 돌려도 다시 다른데로 돌리게만드는구나', '왜 0점은 줄 수 없나요?', '영화사에 남을 작품. 실험영화의 완성본', '자식을 그렇게 때리냐?', '이게 대체 무슨 내용이야;;', 'ㅋㅋㅋㅋㅋㅋㅋㅋㅋㅋㅋㅋㅋ옛다 1점이나 처먹어랔ㅋㅋㅋㅋㅋㅋㅋㅋ이게 7점급?이건 1점짜리. 내용도 결말도. 살다 살다 뭐 이딴...', '감동적이였고 좋았습니다', '초반에 개재미없었는데 볼수록 점점 재밌어짐! 외계인이 내가 알던 에일리언에 나오던 외계인이 아니야....', '쇼핑백 잊혀지지 않는다....', '의도는 좋지만 너무 몰입이 안되는걸 어떡해', '유치하지만 가볍게 볼만함', '화려한 색채때문에 눈이 아프지만 그 나름대로 화려연예계여자욕망에대해 표현해냈던거같다 보는내내 진짜 리리코심정가진 연옌들도 있을거같고..나를한번도보지못하고알지못하는사람들이날어떻게사랑하냐그런대사 나왔을때 소름돋더라 연예인들은 많은사랑받으면서도 참 허전할듯', '본지 수OO이 지나도 아직도 생생함. 고양이 귀신의 복수가 진짜 무서웠지', '영상이 대학교 졸업작품같아서 그렇지 꽤나 많은걸 담아놓은 영화임에는 분명하다.', '최강 전차부대 ..,,..', 'ㅇㅇ', '진짜 어이없는 소재라고 생각하며 보는데 개 웃겨.... 남자로서는 솔직히 조금은 부러울수도 있는', 'tv 전기세가 아까웠다!!!', '초등학교때 선생님이 보여주신 영화 시간이 흘러서 기억나는건 에이즈에 걸렸던 남자아이와 운동화였고 그때 봤던 영화가 뭐였을까? 궁금했었는데 그 영화가 바로 굿바이마이프렌드였다 12년전이나 12년후나 명작은 시간이 흘러도 명작이다', '넘 재밌었어요/ㅅ/ㅎㅎㅎ', '설리 94년생인데 93년도 영화에 어떻게 나오져?', '샷의 연결이 아닌 충돌만큼이나 거룩한 제목 또한 인상적이구려', 'ㅋㅋㅋ 재미없음', '오오 난 여태까지 맷데이먼의 최고의영화는 본 얼티메이텀,라이언일병구하기 뿐인줄알았음ㅠ 굿윌헌팅도쩐당', '이야기 자체가 흥미를 끌지 못하는군', '날 로그인하게 만들다니.....청춘이여 영원하라....', '현정언니 짱이죠 완전 잼잇어요 ㅎ', '영상미 예쁘고 좋지만 러닝타임이 2시간이 넘는데 초반 30분에 줄거리 다 나갔고 엄청 지루한 화보집 보는 기분 일본영화 특유의 그 이해못할 희한함이 있음', '스토리 연결 전혀 안되고 편집해서 끼워맞춘 드라마 말아먹은 작품', '여자 주인공이 예뻐서 끝까지 봤다', '지구를 지켜라...혹 이 작품을 보고 만든 건 아닌지...', '저렇게 힘들게 영화를 만드는데, 왜 한국영화는 다 쓰레기냐?', '케릭터가 살아있었으며, 미장센이 훌륭했다. 이야기는 몰입도 있었고, 불필요한 샷은 존재하지 않았다. 노인을 위한나라는 없다 먼저 봤지만 코엔감독 매력적인영화를 만드는 멋있는 사람', '마지막이 좀황당했지만 좋은영화', '우연히 tv를 돌려보다가 사로잡혔다. 최근 10년간 본 코미디 영화 중 최고', '연 기 굿 화이팅해요누나', '마이클베이 최근작을 볼때마다 느낀다. 블록버스터 액션장르라도 탄탄한 시나리오는 영화의 필수라는것을. 그리고 당신이 기대하던 메간폭스는 늙었다.', '0점은없나?1점은 너무 후하네', '미달이는.. 연예계를 바라보는 태도를 고쳐야 한다.', '파괴된 관객들.', '알콜중독자들 덕에 평점이 낮은가?', '중견배우들이 만들어놓은 긴장감이 나름 긴장감있게 싸워보려했던 도술사들에 의해 헛웃음나온다.', '남자 주인공 늑대 인간으로 변하고 끝나네유. 평점 보고 안 볼까 하다가 봤는디 재밌네유. CG보다 이런 실물 특수 효과가 더 보는 재미가 있어유. 웃기기까지 하네유. 근디 제목 번역은 어느 바보가 한거여. 그냥 늑대 인간이 아니잖여.']\n"
          ],
          "name": "stdout"
        }
      ]
    },
    {
      "cell_type": "code",
      "metadata": {
        "id": "0tnM0TkrsSEB"
      },
      "source": [
        "embeddings = model.encode(doc_list, convert_to_tensor=True)\n",
        "cosine_scores = util.pytorch_cos_sim(embeddings, embeddings)"
      ],
      "execution_count": 14,
      "outputs": []
    },
    {
      "cell_type": "code",
      "metadata": {
        "colab": {
          "base_uri": "https://localhost:8080/"
        },
        "id": "p_UcXgBkse8W",
        "outputId": "7262c771-d780-41af-e14d-bf21599d8877"
      },
      "source": [
        "org = 0\n",
        "temp = cosine_scores[org]\n",
        "temp.argsort(descending=True)[0:10]\n",
        "\n",
        "for i in temp.argsort(descending=True)[0:10]:\n",
        "    print(f\"{i}. {doc_list[org]} <> {doc_list[i]} \\nScore: {cosine_scores[org][i]:.4f}\")"
      ],
      "execution_count": 15,
      "outputs": [
        {
          "output_type": "stream",
          "text": [
            "0. 아 더빙.. 진짜 짜증나네요 목소리 <> 아 더빙.. 진짜 짜증나네요 목소리 \n",
            "Score: 1.0000\n",
            "519. 아 더빙.. 진짜 짜증나네요 목소리 <> 진짜..뭐냐 민국이나 지아는 더빙 더이상시키면안되겠네 더빙이 얼마나중요한데 이런애들을시켜데뷔도안한애들을 연예인이해도 뭐라고하는판에 \n",
            "Score: 0.9133\n",
            "727. 아 더빙.. 진짜 짜증나네요 목소리 <> 아 재미 너무 없네요.. 시간 아까워요 \n",
            "Score: 0.9111\n",
            "527. 아 더빙.. 진짜 짜증나네요 목소리 <> 진짜 짜증나는 영화.. \n",
            "Score: 0.9094\n",
            "840. 아 더빙.. 진짜 짜증나네요 목소리 <> 진짜 쓰레기영화.. 돈아까워 죽는줄 알았다.. 여러분 보지 마세요 \n",
            "Score: 0.9047\n",
            "268. 아 더빙.. 진짜 짜증나네요 목소리 <> 완전 스토리도 엉망이구, 완전 비추..ㅜ \n",
            "Score: 0.8982\n",
            "206. 아 더빙.. 진짜 짜증나네요 목소리 <> 아..정말 김혜성 너무 예쁘네요 이현진도 웃는 거 정말...하.... \n",
            "Score: 0.8934\n",
            "191. 아 더빙.. 진짜 짜증나네요 목소리 <> 어린시절 너무 무섭고 재미있게 봤던 추억의 판타지영화.절대 나쁜짓은 금물.지옥가요.. \n",
            "Score: 0.8926\n",
            "381. 아 더빙.. 진짜 짜증나네요 목소리 <> 진짜 어마어마한 여운을 주는 멜로 영화에요.ㅎ \n",
            "Score: 0.8897\n",
            "401. 아 더빙.. 진짜 짜증나네요 목소리 <> 아 정말짜증나네 절때보지말껄욕나옴 \n",
            "Score: 0.8885\n"
          ],
          "name": "stdout"
        }
      ]
    },
    {
      "cell_type": "code",
      "metadata": {
        "colab": {
          "base_uri": "https://localhost:8080/"
        },
        "id": "szjUFN3zt3xy",
        "outputId": "8b4284d4-3b26-439c-ece2-de01dcfbc3ec"
      },
      "source": [
        "#SNS posting \n",
        "\n",
        "train_data = pd.read_table('sns_gloomy.txt')\n",
        "print(train_data.head())"
      ],
      "execution_count": 16,
      "outputs": [
        {
          "output_type": "stream",
          "text": [
            "                                                  내용\n",
            "0                                같이 죽을 사람 찾고 있습니다...\n",
            "1  저는 삶의 의미와 목표를 어느순간 잃어버려서\\r\\n현재 고통과 노이로제에 시달리고있...\n",
            "2                         너무 힘들고 하소연 하고싶어서 가입했어요 .. \n",
            "3  저는 삶의 의미와 목표를 어느순간 잃어버려서\\r\\n\\r\\n현재 고통과 노이로제에 시...\n",
            "4                            우울한 일상에 혼자의지할곳없어 가입했습니다\n"
          ],
          "name": "stdout"
        }
      ]
    },
    {
      "cell_type": "code",
      "metadata": {
        "colab": {
          "base_uri": "https://localhost:8080/"
        },
        "id": "y8ta-zTcvIMi",
        "outputId": "19c4117d-2a5d-4f47-8586-ce98e25fba08"
      },
      "source": [
        "doc_list = train_data[\"내용\"].to_list()\n",
        "doc_list = doc_list[0:1000]\n",
        "print(doc_list)"
      ],
      "execution_count": 17,
      "outputs": [
        {
          "output_type": "stream",
          "text": [
            "['같이\\xa0죽을\\xa0사람\\xa0찾고\\xa0있습니다...', '저는\\xa0삶의\\xa0의미와\\xa0목표를\\xa0어느순간\\xa0잃어버려서\\r\\n현재\\xa0고통과\\xa0노이로제에\\xa0시달리고있습니다.\\r\\n여러\\xa0의견\\xa0공감하고\\xa0나누고싶어요..\\r\\n이것또한\\xa0작은\\xa0정신적\\xa0\\xa0활력과\\xa0새싹이\\xa0되지않을까하는\\xa0생각이\\xa0들어요', '너무\\xa0힘들고\\xa0하소연\\xa0하고싶어서\\xa0가입했어요\\xa0..\\xa0', '저는 삶의 의미와 목표를 어느순간 잃어버려서\\r\\n\\r\\n현재 고통과 노이로제에 시달리고있습니다..\\r\\n여러 의견 공감하고 나누고싶어요..\\r\\n이것또한 작은 정신적  활력과 새싹이 되지않을까하는 생각이 들어요', '우울한\\xa0일상에\\xa0혼자의지할곳없어\\xa0가입했습니다', '죽을용기도\\xa0살아갈\\xa0용기도\\xa0없네요..', '죽고싶어서\\xa0왔씁니다.', '나혼자만\\xa0이렇게.힘든가\\xa0싶어서..\\xa0가입해봤어요.\\xa0', '삶이\\xa0힘겨워서\\xa0극복\\xa0하고자\\xa0가입했습니다.', '안녕하세요\\xa0조금이나마\\xa0안정을\\xa0찾고싶어서\\xa0가입했습니다', '계획세우고\\xa0새벽까지\\xa0시간\\xa0보내는중에\\xa0한번\\xa0들어와봤네요', '오늘\\xa0너무\\xa0우울해서\\xa0이런카페\\xa0찾다가\\xa0가입했어요', 'ㅈㅅ충동\\xa0계획까지\\xa0잡고\\xa0일주일동안\\xa0시간적으로\\xa0마음잡는\\xa0시간을\\xa0보내고있네요\\xa0', '안녕하세요\\xa0제\\xa0자신이\\xa0너무\\xa0답답하고\\xa0소통이라도\\xa0조금이라도\\xa0했으면해서\\xa0가입했습니다', '답답해서\\xa0왔습니다.\\xa0ㅠ', '너무\\xa0힘들기도\\xa0하고\\xa0저의\\xa0어두운\\xa0이야기\\xa0들어줄\\xa0사람이\\xa0없어서\\xa0왔어요.\\xa0', '살기\\xa0힘들어서\\xa0가입했습니다\\xa0삶이\\xa0참\\xa0가혹하네여', '정말\\xa0힘들어서\\xa0가입했습니다', '의지할\\xa0곳도\\xa0아무런\\xa0것도\\xa0없어서\\xa0왔습니다.', '하소연\\xa0할곳\\xa0찾다가\\xa0가입했어요', '자는\\xa0동안\\xa0깨어나지를\\xa0않기를\\xa0바라는 심정으로\\xa0잠자리에\\xa0듭니다 위로가\\xa0될까\\xa0가입했습니다', '현재상황이\\xa0너무\\xa0답답해서\\xa0가입했습니다', '세상에\\xa0태어나서\\xa0살아있음을\\xa0당하고\\xa0있는\\xa0매\\xa0순간이\\xa0저에겐\\xa0폭력입니다.', '다싫다\\xa0지밖에모르는친구라는사람들\\xa0대화를피하는가족\\xa0거지같은회사\\xa0그거지같은데를가기위해서아침마다억지로일어나야하는무능력한나', '힘들어서\\xa0가입했어요....불안하고....낙이없고\\xa0내가\\xa0왜살지...\\xa0하루라도\\xa0혼자편히있고싶네요', '주변에 사람이 많아도\\r\\n결국 내 힘든말 한마디 얘기할사람이 없다는게 슬프네요', '안녕하세요\\xa0저도\\xa0요즘\\xa0하루하루가\\xa0답답해서\\xa0가입한번해봤어요...', '가입했습니다\\xa0불안증세가\\xa0지금\\xa0밤에\\xa0또\\xa0도져서..\\xa0힘드네요\\xa0ㅠㅠ', '스트레스와\\xa0분노가\\xa0높아요\\xa0우울증\\xa0조울증\\xa0증세도\\xa0있는거\\xa0같고\\xa0항상자살준비를하고있아요', '죽음에대해\\xa0찾다보니\\xa0여기까지\\xa0오게되었네요', '안녕하세요\\xa0죽고싶다면서\\xa0죽지도\\xa0못하는\\xa0겁쟁이\\xa0입니다.\\xa0', '고통없이\\xa0죽고싶은데\\xa0죽을수\\xa0있을까요\\xa0가족들이\\xa0아른거리지만\\xa0더이상\\xa0피해주기\\xa0싫네요\\xa0어릴때부터\\xa045까지만\\xa0살고싶다고\\xa0했는데\\xa036인데\\xa0아직\\xa09년남았는데\\xa0가야겠네요\\xa0', '세상\\xa0살기\\xa0참\\xa0힘드네요...\\xa0돈이\\xa0머라고...', '혼자\\xa0힘드러서\\xa0찾다\\xa0왔네요', '스트레스와\\xa0분노가\\xa0높아요\\xa0우울증\\xa0조울증\\xa0증세도\\xa0있는거\\xa0같고\\xa0요즘\\xa0다시\\xa0힘들어져서\\xa0가입했어요', '오늘은\\xa0너무\\xa0힘들어서\\xa0끊었던\\xa0약을\\xa0다시\\xa0먹기\\xa0시작했습니다 모든게\\xa0하기싫은데\\xa0누우면\\xa0편해질까\\xa0생각이\\xa0드네요', '하루에도\\xa0살고싶다\\xa0아니다\\xa0생각하며\\xa0세월을\\xa0보냅니다.\\xa0신세한탄도\\xa0하고\\xa0그런데\\xa0그런\\xa0말을\\xa0가족이나\\xa0\\xa0친구들에겐\\xa0못\\xa0하지만\\xa0이\\xa0카페글\\xa0보고\\xa0나만 그런게\\xa0아니구나\\xa0위로받아요.반가워요.', '법적싸움으로\\xa0인해\\xa0금전적으로크나큰시련이찾아와\\xa0멘탈붕괴에\\xa0모든걸\\xa0포기하고싶은마음에\\xa0왓습니다~', '안녕하세요\\xa0너무나\\xa0사랑한\\xa0남자친구의\\xa0자살로\\xa0힘들어서\\xa0왔습니다', '하루하루\\xa0반복되는\\xa0일상에\\xa0너무\\xa0답답하고\\xa0재미도\\xa0없고\\xa0자꾸\\xa0안좋은\\xa0생각만\\xa0하게되네요..', '희망이\\xa0없네요\\xa0삶이\\xa0행복해졌으면\\xa0좋겠어요..', '저는 오랫동안 이렇게 힘든데 꼭 마음에 와닿는 위로는 없네요 아니 그런 사람에게 따뜻한 위로를 직접적으로 받아본 적이 없어요 저는 세상에 버려진 슬모없는 사람이네요 매일 자살생각을 하면서 자해를 하는 제가 너무 한심하네요', '일단 저는 학생입니다 우울증이 심하고 대인기피증이 있어요 본론으로 가서 제가 정말 믿었던 친구 한명이 있어요 그 친구는 저의 모든걸 알고 있어요 저는 그 친구를 너무 믿었고 진정한 친구라고 생각했기 때문에 모든걸 공유했죠 하지만 지금은 아닌 것 같아요 제가 그 친구를 그렇게 믿었던 이유가 지금가지 저는 다 이용 당하고 이간질 당하면서 호구 같이 살았는데 그 친구는 달랏어요 모르겠어요 그 친구가 절 진정한 친구로 생각 하는지 한 사람이 먼저 연락해야만 이어지는 관계는 어떻게 해야 할까요 물론 선택은 본인 몫이지만요', '사는게\\xa0너무\\xa0힘들어서\\xa0가입했습니다', '그냥 너무 힘들어서 왔습니다..같이 힘내요', '안녕하세요\\xa0자살하고싶어서가입했어요', '안녕하세요\\xa0오늘가입했어요 많이\\xa0힘든데\\xa0아무에게도\\xa0털어놓을수\\xa0\\xa0없다는게\\xa0\\xa0더\\xa0\\xa0힘든거같아요 위로받고\\xa0위안받고자\\xa0가입했어요', '안녕하세요.\\xa0힘들어서\\xa0가입했어요.\\xa0저보다\\xa0힘든분들도\\xa0많은것\\xa0같네요.', '가입했어요.\\xa0오래됐는데\\xa0글한자\\xa0남기지\\xa0못해\\xa0남깁니다.\\xa0살고싶어요', '하소연하고싶은데\\xa0누구한테도\\xa0못하겠고..', '가입했어요.\\xa0우울한\\xa0마음이\\xa0치유가될\\xa0수\\xa0있을지\\xa0모르겠지만 하소연\\xa0많이\\xa0하고싶네요,,', '\\r\\n나도 살고 싶지 않다..\\r\\n엄마랑 통화하고 나면 진짜 기분 그지같다\\r\\n그럼에도 이생에서 엄마와 인연은 끊을수가 없으니(이건 나의 어린아이 마음도 있겠지)\\r\\n나를 죽이고 싶다.\\r\\n부모와 자식은 죽지 않으면 끊어지지 않는 인연이니까\\r\\n내가 죽어서라도 끊고 싶은가보다.\\r\\n자식도 있으니 그래도 참고 살아본다..\\r\\n사람이라고 부모님께 인간다운짓은 한다..\\r\\n그러다가 또 싸우는건데..\\r\\n우리 부모님과 인연을 끊기가 어렵다.\\r\\n그냥 너가 이상한애라고.. 그말밖에 안한다.\\r\\n크게 모진말도 없다.. 나도 미치겠다.', '\\r\\n안녕하세요.\\r\\n내가 이상한게 아니라는걸 확신하고 싶어서 찾아왔어요.\\r\\n그냥 문득 힘들면 이렇게 마음이 주저앉기도 하는구나..\\r\\n내가 이상한 사람이라서 그런게 아니라..\\r\\n어린시절 너무 힘들었던게..\\r\\n지금 또 이렇게 무의식에서 올라와서 좌절하는거라고 위안하고 싶어서 가입했어요.\\r\\n내탓은 아니지만.. 이제는 나이도 많으니 내가 직접 이겨내야 하기에\\r\\n비슷한 분들의 이야기들 함께 듣고 싶어요.', '안녕하세요,\\xa0저와같이\\xa0사는게\\xa0힘드신분들이있을까하다가\\xa0가입하게됐습니다.\\xa0', '안녕하세요.\\xa0가장\\xa0고통없이\\xa0죽는\\xa0법이\\xa0뭘까요?', '너무\\xa0지쳐서\\xa0인터넷을\\xa0뒤져보다\\xa0우연히\\xa0발견하여\\xa0가입하게\\xa0되었습니다.', '\\r\\n죽고 싶다는 생각을 떨칠수 없고 또다시 강한 충동이 듭니다 날 든든히 버티고 잇어줄 부모는 처음부터 없었고 예뻐지고 학력을 높여도 그 속은 똑같은 나이니 진짜 행복이나 삶의 의미같은건 세상에 존재 하지도 않는것 같고 종교도 결국 진짜 내 갈증을 가시게 하지 못하고 피폐한 모습들만 더 보게 햇습니다 그렇다고 악하고 계산적인 약은 모습으로 사람들 이용하고 나쁘게 막살지도 못하겠고. 약을 한웅큼씩 매일 먹어도 취해서 반복적으로 자고 일어나고 먹고 반복이지 근본을 해결하지 못해 결국은 더 답답해 집니다. 조건 좋은 연애 상대를 만나도 부모 잘만나서 너와 나의 인생이 이렇게 다르구나. 난 우울감에 찌들어 갈때 넌 걱정없이 공부만 하고. 좋은거 안좋은걸 떠나 그냥 먹고 싶은거 가고싶은곳 입고싶은거 다 할수 있었다는것. 비슷한 성적을 냇어도 금전적차이로 넌 유학을 가고 난 돈걱정에 일을 했다는것. 그렇게 인생의 급이 나뉜다는것. 나이를 먹어갈수록 세상을 알아가고 남들과의 비교의식에 행복보단 좌절이 더 큽니다. 이겨내보잔 희망 보단 좌절감이 살떨리게 다가옵니다 힘내봤자 제자리고 앞서가는 사람보다 더 힘차게 뛸 근력도 없습니다 그래야할 이유를 못찾으니까 ', '안녕하세요.\\xa0오늘따라\\xa0너무\\xa0죽고싶어서\\xa0가입했어요\\xa0왜\\xa0죽는\\xa0것도\\xa0제\\xa0맘대로\\xa0못할까요?\\xa0그냥\\xa0살인마한테\\xa0살해당하고싶네요', '안녕하세요.\\xa0오늘따라\\xa0너무\\xa0죽고싶어서\\xa0가입했어요\\xa0왜\\xa0죽는\\xa0것도\\xa0제\\xa0맘대로\\xa0못할까요?\\xa0그냥\\xa0살인마한테\\xa0살해당하고싶네요', '이미\\xa0희망도\\xa0없는데\\xa0주변에서\\xa0끊임없이\\xa0숨통을\\xa0조여오고,\\xa0이런것들에\\xa0대한\\xa0추잡한\\xa0하소연을\\xa0핑계로\\xa0가입했어요.', '하소연이아니라\\xa0죽고싶은사람들은어떻게\\xa0해야해요?? 다들나보다힘든데\\xa0견디고있으신건가..', '안녕하세요\\xa0살아있는게\\xa0너무\\xa0힘들어\\xa0저와\\xa0비슷한\\xa0사람들의\\xa0의견을\\xa0보고자\\xa0가입했습니다', '우울하고\\xa0대인기피증으로\\xa0가입했습니다', '의문이랑 자괴감이 들어요. 게임 만드는 일을 하는데 맨날 우울에 빠져 있는 사람이 만드는 게임이 과연 재미를 줄 수 있을까 재미를 준다면, 자격이 있는 재미인걸까..', '인생을 헛 산게 느껴진다. 생각없이 살았다는게 느껴진다. 참 내가 나 스스로 비참해 진다.', '꿈 결혼해서 애기 낳는거 꿈이었는데 그 꿈도 이제는 없다. 다 포기했다. 난 아무것도 바라는게 없다. 결혼해서 애 낳는거, 되게 욕심이거나 거창하지는 않다고 생각했는데, 보면 대부분 90퍼센트 사람들이 결국은 결혼해서 애 낳잖아. 이거마저 버리니까 내 자신이 참 불쌍하다. 이제는 아무런 꿈이 없어.', '같이 일하는사람.. 정말 싫다 나보다 한참 어린 친구 있는 앞에서 옛날 이야기하면서 개쪽주고.. 잘해주시긴 했는데. 말을 가끔 막 밷어… 그때 말한 옛날은.. 상치르고... 우환이 많았던 때였어.', '가정폭력 또당했다., 최근에만 3월에만 연속7번하고 4월4번하고 4월13일부터 하루도빠짐없이 피말려죽여대고 정신적고문 하고 도저히못버티겠다. 곁에 누군가1명도없고', '가슴 통증이 너무 심해.. 요즘 아메리카노를 마셔서 그런가... 이놈의 다이어트 때문에.. 마시지 말아야지 하고 다짐해도.. 어쩌다 먹고 있는 나 많이 먹으면 공황에 심한 가슴 통증에 원망에 부정적인 생각들로 고통스러운데..ㅎ 아직 반에 반도 안먹었는지 어쩌지 책상에 나두고 조금씩 먹을까 눈물만 날려고 해.', '우울하다\\r\\n갑자기 우울터져서 책 덮고 누워있음\\r\\n너 하나때문에 이러는게\\r\\n이젠 정말 짜증나고 싫다\\r\\n다시 돌아올거 아니면\\r\\n제발 좀 꺼져버려…', '으... 움직여야하는데...움직일수가 없네....왜케 몸이 둔해진거야 ㅠㅠㅠㅠ 마음도 몸도 느려 빠진기분...아아아악!!!움직여!!!움직이라구!!!', '지금 내 기분은 구겨진 종이같다', '우울하고 불안하고 걱정되고 이런저런 복작합게 다 섞여있는...ㅇㅇ', '뭘 위해서 사는 걸까\\r\\n이렇게 무기력하게 사는게\\r\\n의미가 있을까\\r\\n내 얘기를 잘 안하고\\r\\n벽을 두는 성격탓에\\r\\n누구와도 관계와 소통이 잘 안된다\\r\\n잘 웃지도 않는다\\r\\n이런 나를 싫어하는 사람이 많다\\r\\n그래도 가족이 있기에 버티지만\\r\\n너무 외롭다\\r\\n어릴땐 내가 이렇게 살지 몰랐다\\r\\n살고싶지가 않다\\r\\n\\r\\n ', '화가난다 하소연도하고\\r\\n눈물이니ㅣㄴ다 다들 놀리기 바빠', '파도 같은 인생에 다시 좋아지고 있는 삶이 언제나 갑작스레 불행이 올까봐 행복하며 불안하다.', '비가 오면\\r\\n하늘에 있는 엄마의 눈물같아 슬펐다..\\r\\n이제..이제는 눈물이 위로같아 구슬프지않다..', '우울하고 불안한데\\r\\n말할 곳이 없다.\\r\\n그냥 아무말도 하지않고 다 들어줄 사람이 있었으면...\\r\\n그 어떤 조언이나 격려라던지 응원도\\r\\n부담스러워서.\\r\\n나도 내가 쓰러질까 겁이나는데,\\r\\n옆에서 그런 소리를 들으면\\r\\n더 빨리 지쳐버릴 것 같다.', '기분 엿같네요\\r\\n추석이라고 제사는 지내고 어디 갈려니 혼자선 그렇고\\r\\n집에 있으려니 미치겠고', '이놈. 너는 말이다. 언젠가 그 나약한 의지때문에 인생에 지대한 악영향을 미칠 재앙을 맞을것이다. 지금도 실천을 안하잖냐?', '그냥 훌쩍 혼자 떠나고 싶다\\r\\n스스로 벽을 쌓고 사람들과 거리를 두면서\\r\\n외롭고 관심받고 싶고 한다\\r\\n가슴이 먹먹하고 답답하다', '그냥..또 터졌다 이유없는 우울함이..\\r\\n가만히 앉아있어도 숨이차서 숨쉬기가 힘들다\\r\\n어제 까지 작업한던 일도 갑자기 아무것도 하기싫다\\r\\n말도 하기싫고 눈맞춤도 하기싫구\\r\\n그냥 다 싫으네..어제까지 미친듯이 좋아집중했던 모든게\\r\\n심장이 너무빨리뛰고 숨이차서 어지럽다', '편안한 음악을 들으면서 은은한 즐거움을 느낀다. 하지만 그와동시에 마음한켠이 은은히 아리다. 뭔가 허전하다. 공허하고 외로운것같다.', '평일엔 센터에서 절대을이고 주말엔 새로운 알바를 시작했고 남친은 새나라에 어른이라11시 이후엔 전화도 카톡도 안보고 난 그시간이 가장 힘들고 외롭고 슬프구 공허하고 죽고싶고 누군가 날잡아줬음 하고..하루하루 매일 전투적으로 살아도 늘 그자리고..너무 힘들고 지쳐서 이제 그만하고싶다.', '외롭네요 성적으로 외롭다는게아니라 뭐랄까\\r\\n마음이 허전하고 두렵고 커다란구멍이 난 느낌이랄까\\r\\n게임하면서 지낼때는 괜찮았는데 이게 또보니 하다보면\\r\\n금방실증나서 그만두고 하다보니 요즘은\\r\\n거의하루종일 침대에 누워서 폰만 만지고있네요', '어제도 오늘도 잠을 못 자고 있어요\\r\\n먹던 목디스크 전립선 약을 일요일 저녁부터\\r\\n안먹었더니 잠을 못 자네요\\r\\n어제도 밤샘 후 아침6시에 출근\\r\\n오늘도 그럴려나 bb', '해결이 안되고 맨날 반복되면서 내가 고통받는건 사라지지 않으면서\\r\\n자신을 싫어하는 거 같으면 이것저것 음식,청소 따위를 하면서 관계문제를 없애려고 한다 진짜 신경이 곤두선다\\r\\n엄마가 옆에 있는것만으로 불안해지고 괴로워서 신경이곤두서고 너무힘들다.\\r\\n옆에 없었으면 좋겠는데\\r\\n지금까지 300번 넘게 미안ㅋ 친절.이렇게 다가와놓고 똑같은 걸 반복해서 내가 상처받고 정신적으로 트라우마수준으로 타격받았고 감정뿐아니라 신경 신체 통증 고통 느꼈다.\\r\\n기분 나쁘다는식으로 중얼거리면서 그렇게 행동하는거 불편하다', '오늘도 하루가 가는구나.\\r\\n카페에 여러 글도 올라오고. 나만 힘들어 하는게 아니구나.\\r\\n그래도 안 힘들어 하셨음 좋겠다.\\r\\n언제쯤 이 감정이 사라질지.. 모르겠다.', '요즘은 살고싶은..의욕이 점점 사라져 간다..\\r\\n엄마는 나에게 칭찬이 아니라 실망했다 이런말밖에 안한다\\r\\n나도 일하고 피곤하고 스트레스 받는 일도 많은데..\\r\\n최근들어서.. 외삼촌이랑 말을섞기 싫었다..\\r\\n왜냐하면 삼촌이 머리를 수술하면서 그전에도 그랬지만\\r\\n성질을 조금씩긁는 말을 하기에 그게.. 수술하고 나서 더심해져서\\r\\n이해는 가는 상황이지만 멀을 섞고 나면 나만 스트레스 받아서\\r\\n말을 안섞고 말을 자체를 안했는데..\\r\\n퇴근길..버스안에서 삼촌을 만났는데.. 잠에 덜깨기도해서 인사도 어떠한 말도 안했다..', '엄마 대할때 너무 불안. 식은땀나\\r\\n똑같은 걸 반복 50번 넘게 발작하듯 불안하고 괴로웠다\\r\\n아무것도 일어나지않은듯이 아무렇지도않은듯이 친근하게 다가온다\\r\\n그걸 피하는 내가 내가 냉정하고 나쁜 사람이라는 듯이 대한다. 그렇게 다가갔다 그런행동에 뒤통수맞은듯한 충격과 괴로움 되풀이된지 몇십번. 본인도 그렇게 반복된걸 기억할텐데.\\r\\n자신이 하는 행동을 바꾸지도 않으면서 자신은 착하다는듯 상대방은 나쁘다는듯. 상대방의 고통은 나몰라라\\r\\n바뀌지 않으면서 상대방의 고통을 모르는척하고 다가오는거 너무 아닌거같다....', '생각을 좀먹는거 같다.\\r\\n오늘 면접갔다왔는데 생각이 안나서...겨우겨우 말했다. 떨어지겠지.\\r\\n기분장애 증상 있는데 면접 보러가는 자체가 대단하다고 생각된다.', '머리아파\\r\\n온몸에 긴장이 너무 심하다\\r\\n가슴이 쬐이는것 같고 눌리면서 아프고 갑갑하고 숨이 잘 안쉬어진다 매일매일 이러는게 오래됐다', '나는 되게 못난 사람인거 같다\\r\\n세상 센척 하지만\\r\\n나는 나약하다\\r\\n멘탈이 너덜너덜해져서\\r\\n아주 꽉 부여잡는 척이라도 해야\\r\\n안쓰러질거같아서 ㅜㅜ\\r\\n히유 감정에 늪에 빠지지 말아야돼', '원래의 내 모습은 웃음이 많았다.\\r\\n사람들이랑 장난치는걸 좋아했다\\r\\n말장난도 하고 농담도 하고 살짝 괴롭히기도 하고 (심한건아님)\\r\\n근데 사람이 10년정도 옆에 없다보니까\\r\\n그런걸 다 잊어버렸다.\\r\\n그리고 핵진지충이 되어버렸다.\\r\\n어렸을때처럼 아무말이나 하면서 장난치고 싶다.\\r\\n중년이 되어버린 지금 어릴때가 그립다.', '\\r\\n내가 원하는게 뭔지 세상에 존재하긴하는지 모르겠다\\r\\n그냥 막연한\\r\\n누구나 그런거 있잖아', '심한 내성적인 성격에다가 어릴때부터 심각한 가정불화로 동네가 다 알게 싸움나기도 부지기수라 자존감이 항상 바닥이었죠.\\r\\n동네 창피해서 고개를 못들고 다닌다는 말이 있지요.\\r\\n제가 딱 그랬어요.\\r\\n거의 땅바닥만 보고 다녔죠.\\r\\n사람과 대화 자체도 꺼렸지만 하더라도 상대를 잘 쳐다보질 못했어요.\\r\\n눈을 보고 말한다는건 거의 있을 수 없고요', '오래알고지낸 사람이 아니면 말을 굳이 안섞고싶은 이유이기도하고\\r\\n나는 새사람을 사귈 여유도없고\\r\\n그과정에서 오는 일들 또한 노동이라느껴지고\\r\\n명상을 즐기는 사람들은 세상밖의일이나 타인과의 관계에\\r\\n크게 매이지 않고 혼자 가지는 시간을 소중히한다\\r\\n내안의 우주가 나는 더없이 소중하다\\r\\n앞으로도 나는 혼자이고싶다', '\\r\\n요새 1일1비상약 먹고 계속 ㅈㅅ사고 돌아가는 문제로 보호자(남친)와 상의를 했다.\\r\\n집중적으로 공부를 하고 쉴 때에는 공부 생각하지 말라는 솔루션을 남친이 제시했다.\\r\\n난 솔직히 공시 10시간 채우고 싶다. 그렇지 않으면 합격 못할것 같다.\\r\\n공부 잘하는 사람들은 순공시간이 다 10시간씩 되는 것 같다.\\r\\n그런데 나의 현재 상황은 그렇지가 못하다.\\r\\n뭐가 어쨌든 좋으니 기어서라도 순공시간 5시간만 채우는 것이 현재의 현실적인 바람이다.\\r\\n그런데 ㅈㅅ사고가 자꾸 돌아가서 미치겠다;', '오늘 생각해보니 불안 -> 죄책감 -> 우울 -> ㅈㅅ마려워의 순서로 사고가 돌아가는 것 같다.\\r\\n생산적인 활동을 하지 않는 시간에 죄책감을 느끼는데 죄책감의 근본 원인은 불안이다.\\r\\n공부하다가 쉬면 얼마 안 있어서 ㅈㅅ마렵고 다른 어떤 활동을 해도 집중력이 끊어지는 순간 ㅈㅅ마렵다.\\r\\n즉 공부를 하지 않을 때는 ㅈㅅ마렵다.\\r\\n예전처럼 공부를 안 하게 될까봐 그리고 시험에 떨어질까봐 크게 걱정하는 것 같다.\\r\\n이 점에 대해서 상담을 해야겠다.', '계속 자다 깨다 이제야 정신차리네\\r\\n인나자 일어나서 뭐라도하자!!', '수면약 먹고자면 아침에\\r\\n일어나는거 평소보다 10배는 힘든 것 같음 더 자고 싶어..ㅠㅠㅠ', '분명 일찍 일어났는데\\r\\n침대에서 나오질 못해서\\r\\n택시타고 출근....qeqe', '누군가는 삶의 가치를 지키기 위해 노력하지만,\\r\\n노력의 결과치는 사실 그 사람만 아는 것이다.\\r\\n묵묵하게 한다 하여금 그저 불쌍할 뿐', '\\r\\n내가 서울에 살지 않고 지방에 살았으면 어땠을까..\\r\\n지금처럼 백수 노릇은 안하고 있을텐데...\\r\\n원래 고향이 시골이지만..서울에 가족과 정착한 나는 고향에도 가기 싫다.\\r\\n어차피 아는 사람도 없거니와..서울이 교통이나 시설이 편해서 좋다.\\r\\n근데 문제는 인구가 많고 내가 하고 싶은 일자리는 없어서 이렇게 논다.\\r\\n서울은 일자리나 급여도 너무 적다. 정말 이런걸 생각하면 지방에 가서 쉽게 일자리 구하고 돈도 잘벌텐데\\r\\n무턱대로 돈 따라서 지방가서 사는건 아닌거 같다.\\r\\n오늘도 한숨만 나오네', '가만히있음\\r\\n너무괴로운데\\r\\n뭐라도하고 보고 하니 좀낫다.,.\\r\\n내일도 괴롭지않길 ..\\r\\n한고비 한고비 이겨내야 하는게 삶인걸까', '\\r\\n자기일 아니라고\\r\\n정신병에 대해서 쉽게 얘기하는 사람이 많다\\r\\n의지가 약해서 그렇다는둥\\r\\n강하게 마음먹으라는둥\\r\\n의사도 아니면서 쉽게 얘기한다', '아 맘속이 너무 처참하고 아프다\\r\\n어제 새벽에 수면제\\r\\n먹고 운전했어요ㅜㅜ\\r\\n내자신이 점점 추락하는거 같아요', '되는일이\\r\\n없는거 같다\\r\\n현타가 오고\\r\\n기운이 빠진다\\r\\n괜찮아질 수 있을까', '\\r\\n펜팔을 하고 있는데\\r\\n일상적인 이야기에 뭐라고 답해야 할지 모르겠다.\\r\\n저는 ㅈㄱ싶어요. 정신질환이 있어요. 아파요. ㅈㄱ 싶다는 생각이 하루 종일 들어요.\\r\\n그리고 참고 공부를 합니다... 라니 너무 무겁잖아 ㅋㅋㅋ\\r\\n근데 나 최근 일주일간 다른 일상 없어... 진짜 문제긴 문제인 것 같다.\\r\\n아니면 아파서 생각이 안 나는 건지도 모르겠다ㅠㅠ 그렇겠지?\\r\\n\\r\\n ', '슬럼프가 심하게 올때면\\r\\n나는 이런 글조차 쓰지 못한다\\r\\n아예 세상과 단절한달까\\r\\n그나마 이렇게 쓰는건 좀 나아졌다는거\\r\\n생각지도 못한 계기로 집에 쳐박히고 꼬박 두 달 걸렸다\\r\\n이렇게 오래 걸릴줄 몰랐지만\\r\\n이제 다시 일어나야 할 때다\\r\\n슬슬 기지개를 켜는 중이다', ' \\r\\n집에서 자는밤이 오늘이 마지막이 될수도 있겠네요\\r\\n하하 이제 다 끝났습니다 카드대출 절대 받지마세요\\r\\n어느정도 수입이 있고 값을 능력이 되시면 받는것이지\\r\\n저처럼 능력도 없고 수입도 전무한 상태에서 받으면\\r\\n뒷감당 절대 못합니다 가상화폐 투자해서 돈 벌어벌려고\\r\\n발버둥쳤는데 현실은 인생 조지는거였습니다', '  한숨만 나온다\\r\\n누가 괜찮다고 해줬으면 좋겠다 너무 불안하다\\r\\n근데 의지할곳도 얘기할 곳도 없이 세상에 나 홀로 동떨어진 사람이라서 항상 그랬듯이 혼자 버텨왔고 또 혼자 버텨야 한다\\r\\n아무도 날 도와줄 사람은 없는데 잘못되면 그냥 힘없이 잡혀가서 뉴스기사에나 나오겠지:)\\r\\n제가 혹시라도 내일부터나 1주일 이상 호퍼에 보이지 않는다면 으디 납치되서 살해당한거라고 생각해주새오...\\r\\n너무 자극적일수도 있어서 공개적인곳에 밝히고 싶지는 않았지만\\r\\n혹시라도 그렇게 되면 내가 너무 힘들고 아팟던거 혼자서 외로이 끝나는게 너무 비참해서 그냥 어디에라도 말해놓고 싶어오...', ' \\r\\n왜이렇게눈물이나지\\r\\n울고싶은데 막상 눈물은안나고\\r\\n답답하고 우울하고 슬프다', '\\r\\n언제까지 버틸지는 모르겠지만\\r\\n죽을까봐 무섭다\\r\\n감정기복이 심해서 잠깐 기분좋았다가\\r\\n다시 내려간다', '\\r\\n우울\\r\\n\\r\\n하. 너무 우울하다.\\r\\n도태됐다.\\r\\n11살로 다시돌아가서 바로잡고싶다.\\r\\n영화 나비효과도 생각난다.\\r\\n인생 ㅠ', '배신은 나에게 일상이야..\\r\\n온라인에 사람들도 오프라인에 사람도\\r\\n나를..\\r\\n만만하게 본다..ㅠㅠ\\r\\n장난아니라 진짜라서 더 힘들다', '\\r\\n내가모쏠인이유tmi\\r\\n이성적인 매력이 부족한것같다\\r\\n사람들하고 잘 지내는 것부터 어려워하니 이성과는 더 어렵고.. 본의 아니게\\r\\n몸도 굳고 속으로는 부들부들 떠는디 그걸 감추느라 아무렇즈 않은척 센척하다보니까 상대는 본인이 싫어서 불편해 하나 이런 생각을 하게 만든다...\\r\\n내가 자존감이 좀 높아지면 상대 앞에서도 안 떨고 있는 그대로의 내 모습을 보여줄 수 있을 때가 되어서야만 연애도 가능할 것 같은데 그게 언제가 될지 모르겠다...\\r\\n', '흠... 고요하군....\\r\\n자연이란게 참 애매모호해..\\r\\n아름답기도 하지만, 잔혹하기도 하니까...\\r\\n\\r\\n서글퍼.ㅠ', '\\r\\n내숨숨집\\r\\n욕 먹는게 싫어서 숨는당..\\r\\n거절 당하는게 싫어서 숨는당\\r\\n술금슬금 햇볕이 그리워서 양지로 한발 뻗어보았는데\\r\\n너무나 무섭네 ㅠㅠㅠㅠㅠㅠㅠㅠ', '지금 이 시간이 제일 고통스럽다 죽지 못해 사는거 나만 그런건가', '아 계획한 일들을 하지 못했다\\r\\n진짜 발등에 떨어진 일들은 겨우겨우 했다지만\\r\\n그 외의 일들은 너무 무기력해서 아무것도 하기가 싫다\\r\\n이러면 안되는데...ㅜㅜ 무기력증 어떻게 극복하지', '미화될때마다 기분이 참 복잡하다\\r\\n어떻게 인생이 전부 후회되는 일 밖에 없을까', '아빠만 보면 기분이 드럽다.\\r\\n어릴때부터 내 순진함을 이용하려고 하고\\r\\n내 행복엔 관심도 없지', 'ㅠ 시간\\r\\n산송장으로 질질끄니까 나이만 먹었고\\r\\n더 늘어지게된다 더 기력이없고 악순환\\r\\n끊어내야된다 23살에 호퍼를 알게되어 벌써28살이다\\r\\n산송장의역사로 10년이 넘었다\\r\\n당장 무리할게아니라 차근차근해야함을 안다\\r\\n인생은 짧으니까 좋아하는걸로\\r\\n지금 당장 차근차근히', '1년 뒤에는 웃을수 있을까ㅋ 세상은 불공평해 나는 쓰레긴데 등신같이 살때보단 지금이 좋다', '내일은 약 타러가서 혼나구와야지.\\r\\n병원 옮기고싶은데. 멀어.\\r\\n불평만하는게 너무 똥같아.\\r\\n기분이 똥같아.', '나라는 사람의 원래 모습은 아무도 좋아해주지않을거같은 두려움\\r\\n이젠 약을 먹어도 먹어도 부족하다\\r\\n.. 고독하다.', '우울에 잠식당할때\\r\\n어쩔땐 정말 고요하다\\r\\n내가 무슨 감정인지도\\r\\n뭘 하고싶은지도\\r\\n무엇을 생각하는지도\\r\\n하나도 모르겠다\\r\\n나 스스로 내 감정을 못읽는다\\r\\n머리가 텅 빈 로봇이 되는거같다', '내가 특별한 존재가 아님을 인정하기\\r\\n타인의 감상에 크게 의미 두지 말기\\r\\n타인이 나를 결정하게 만드는 것 무시하기\\r\\n날 어떻게 생각하고 평가하든 그건 그 사람의 생각일뿐\\r\\n그 사람의 생각 자체가 곧 나는 아니다\\r\\n내 자신은 누구보다 내가 더 잘 알아\\r\\n니가 날 나쁘게 보든 좋게 보든 다 내 모습이야\\r\\n세상에 앞 뒤 모두 똑같은 사람 없어', '아무리 긍정적으로 생각해보려해도, 별 이유없이 심란하고 뒤숭숭;; 마음이 편해지고 싶다', '이유없이 불안한기분이\\r\\n몇년째 지속중이다\\r\\n이병이 뭔지 아시는분?', '비상약 타고\\r\\n쇼핑하고\\r\\n스타벅스 왔다\\r\\n저녁에는 키토식당에 갈 것 같다\\r\\n아무것도 먹고 싶은 게 없지만\\r\\n그나마 채소라서 소화가 좀 되려나 싶어서\\r\\n마음은 하고 싶은 게 많은데 몸이 안 받쳐줘서 힘들다', '왜 머릿속에 이 생각이 떠돌까\\r\\n마음에 뭐가 맺힌 듯 답답하다\\r\\n호르몬의 장난일까\\r\\n목적지가 없어도 밖에 나가 걸어야 하는걸까\\r\\nㅈㄱ싶다\\r\\n먹는 것도 귀찮고 공부도 지겹고 귀찮다\\r\\nㅈㄱ싶다\\r\\n사실 ㅈㄱ싶다는 생각이 없는데\\r\\n머릿속에서 마음속에서 그런 마음이 계속 맴돈다', '우울하고 짜증난다 그러니 공부가 안된다\\r\\n다른거라도 할까...', '비오니까..\\r\\n예전엔 비오면 아무감정없이 좀 짜증나겟네.\\r\\n햇을 뿐이었는데..\\r\\n요즘엔 .\\r\\n추적추적 감성 젖는다...\\r\\n나이들엇나바', '전혀 안아프게 생겼다는 말은 뭐지...\\r\\n피폐하게 안꾸미고 살면 아픈건가\\r\\n신기하게 쳐다보는게 꼭 동물원 동물이 된 기분이네...\\r\\n휵 던진말도 내게는 상처가 되는뎁 쩝..', '태어나서 나의 어린시절, 지금까지, 무언가 결여된 사람이라는 생각이\\r\\n지워지질 않는다.', '여튼 나는 부모돌아가시면 묘소에 가고싶지 않아.\\r\\n왜가니?\\r\\n사망하고 화장되고나면 이제 나와는 그것으로 연이 끝이야.\\r\\n덧없는 핏줄에 연연하기 싫으니까.', '젖은 빨래처럼 몸이 엄청나게 축 늘어진다. 졸려 ??', '인생 참..\\r\\n멘탈잡으려 하면 터지고\\r\\n반복되다 이제 지치네\\r\\n내 내면이 힘든데\\r\\n무언가를 이룰려고 하는게 참\\r\\n내자신을 먼저 사랑하고\\r\\n아껴주고\\r\\n차근히 해 나가야하는데\\r\\n그게 참 힘들다\\r\\n사랑 해보지 못해서인가\\r\\n나를 왜이리 힘들게만하는 나지...\\r\\n알면 좀 고쳐보자ㅏㅏ', '오늘도 -0.5kg.\\r\\n생각보다 살이 빠지는거에 가속이 붙었다.\\r\\n식단 시작하고 3주간 몸무게 변화가 없었는데\\r\\n1일1식+운동의 효과는 강력했다\\r\\n\\r\\n근데 어째서 햇빛도보고 운동도했는데\\r\\n수면의 질은 떨어진걸까\\r\\n4시간 정도 자면 깨네..', '지금 이 아침처럼 사는것도 잔잔하고 고요했으면\\r\\n왜 이렇게 사는게 요란하고 힘들까요...?', '사운드가 비면 괴롭다.\\r\\n그게 유튜브던,\\r\\n티비던,\\r\\n비쥐엠이던,\\r\\n노래던,\\r\\n내가 듣고 있고 인식하던 소리들이 사라지면\\r\\n나를 괴롭히던 수많은 생각들이\\r\\n한순간에 나를 통채로 잡아삼킨다.', '오래 굶어서 죽을만큼 배가 고파도\\r\\n한끼 배부르게 먹으면 언제 그랬냐는듯이\\r\\n금새 채워진다.\\r\\n\\r\\n근데 사람이 고픈건\\r\\n어떻게 채워야 할 지 모르겠다.\\r\\n아무리 채우려고 노력해봐도 도무지 채워지지가 않는다.', '어쩜 잠만 오지\\r\\n약을 먹어도 우울의 늪에 이미 빠진 느낌\\r\\n외로워서근가 자다 깨다 무한굴레의 반복', '밥 한끼 같이 먹을 사람이 없군..\\r\\n급 외롭다.\\r\\n외로움..우울함\\r\\n상처들을 이겨내고 친구를 사귀고 만나고싶다.\\r\\n근데 아싸라 가능할까?bb', '이 공간은 생각보다 외롭다 가슴에 구멍이 난 것같다\\r\\n\\r\\n ', '어제 내가 일하는 학원 원장님께 그만둔다는 말씀을 드렸다ㅠ\\r\\n작년 6월 3일에 입사해서 거의 일년 다 채우고 넘기고 그만 둘 것 같다....\\r\\n원장님께는 건강 문제라고 했지만 건강문제 플러스 동료샘들의 뒷담화와 편가르기, 인사안하기 등등\\r\\n타과목 샘들 몇몇이 직장왕따 시키는 기분이 매일 들었다.\\r\\n잘 지냈던 샘들하고도 틀어지고 실수하게 되고 와전되고ㅜ.ㅜ ', '몸이 힘들면 좀 쉬고 나면 괜찮아지던데 정신적으로 지친것도 시간이 필요한 걸 까요?\\r\\n회복이 좀 더딘 듯 한데 회복에 도움되는 개인만의 팁이 있으면 알려주실 수 있으신가요?\\r\\n정신적으로, 대인관계적으로, 피폐해져서 사람들이 다 지쳐버렸네요. 다 싫다~꼴보기도 싫고 대하기도 싫다~!근데 또 외롭다 ㅋㅋ', '퇴사하고 싶은데 이게 대기업이 아니니 직접 면전에 대놓고 얘기해야하는데 뭐 어떻게 얘기해야할지도 모르겠고 눈뜨면 출근은 하는데 하루 보내는게 지옥같고 진짜 사는게 아니네요', '고등학생때 대인관계에 어려움도 많이느끼고 학교생활에 잘 적응하지 못했어요\\r\\n그래서 고1부터 무기력에 우울증을 달고 살았어요\\r\\n그냥 사춘기같은건가 보다 시간지나면 괜찮아지겠지 했지만 그게 고3말에 심해져서 스물하나인 지금까지 히키코모리 생활 중이예요\\r\\n진짜 필요한게 아니면 밖을 잘 안나가구요 \\r\\n수능끝나자마자 히키생활 시작해서 친구도 안만나서 지금은 연락하거나 만나는 친구가 없습니다', '아 직장에 하나있는 아줌마 때문에 떼려치우고싶다..\\r\\n우리집에서 3분거리에사셔서 어느날부터 카풀하고다녔는데\\r\\n그뒤로 갑질한다 일하는데 도와달라고는 기본이고..\\r\\n나도 내일바빠죽겠는데 당연한듯이 와서 하란다 \\r\\n곱게말하는것도아니고 자기 스트레스받으면 히스테리도 나한테\\r\\n부리고 ㅡㅡ 폐경인거 알겠는데 다른데가서 푸세요 진짜\\r\\n저아줌마 때문에 때려치우고싶다\\r\\n', '지속적으로\\r\\n너땜에 다들 힘든거다\\r\\n니 관리책임이다.\\r\\n니가 자금운용을 잘못한 탓이다.\\r\\n니가 재고관리를 똑바로 못한 탓이다.\\r\\n니가 아랫사람들 관리를 못해서\\r\\n다들 버거워하는거다.\\r\\n', '저가 상대한테 계속 죽고싶다 하면서\\r\\n걱정받는 걸 좋아하는데 상대가 지치고 힘든 거 보이는데도\\r\\n그만두기가 쉽지가 않은데 어떡해야 고칠 수 있을까요ㅠㅠ', '일년전엔 눈팅만하다가\\r\\n혼자서 계속 참기만했는데\\r\\n오늘은 너무 힘들어서 글을 써봐요\\r\\n혼자인게 너무 서럽고 어떻게해야할지 감당도안되서 너무 막막해요\\r\\n너무 염치없는거 알면서 누군가한테 도와달라고하기는 주변에 아무도없어서 슬프네요\\r\\n자신이 없어져요 너무 많은것들에...', '눈떠지지 않길 빌며 잠에 들고\\r\\n매순간 아침이 찾아올 때마다\\r\\n괴로움에 몸서리친다.\\r\\n내 자신이 엮어놓은 굴레가\\r\\n끊임없이 내 몸을 잡아끌고\\r\\n잡히는대로 움켜넣었던 모든 게\\r\\n내 몸을 흙투성이로 만든다.', '돈 안 벌어도 되니까 쉬고 싶다\\r\\n잠깐 쉬는거면 더 좋겠지만..\\r\\n내가 힘들다고 말해도 놓아주지 않네..', '직장에 들어가면 초반엔 신나고 즐겁다가\\r\\n3개월 쯤 되면서부턴 익숙해지고 지루해지네요.\\r\\n의욕이 갑자기 없어지면서 우울모드예여 ㅎㅎ\\r\\n그리고 또 옮기면 생기발랄하구요.\\r\\n변화가 필요한가봐요..\\r\\n여행 같은거 안좋아해요..', '아빠와 싸웠다\\r\\n카톡을 보내왔는데 내가 정신적으로 어려진 탓일까\\r\\n눈물이났다 한참을 울었다\\r\\n지난주에 식단조절로 살을 많이 뺐다\\r\\n아빠가 가버린후 자포자기하는 심정으로\\r\\n인터넷으로 과자를 시킨후 폭식을 해버렸다\\r\\n4~5일간 하루 3시간씩 운동해서 살을 뺐는데\\r\\n일주일 내내 운동도 안하고 청소도 씻지도 않고\\r\\n나쁜음식들을 폭식했다', '(우선, 쓰고나니 한탄글.)\\r\\n진짜 할말이 많은데...\\r\\n하. 진짜 정없는 친구같지 않은 몇 옛 친구들 화나네요\\r\\n직장 동료보다 못한 ㅋㅋ\\r\\n이용만 당한거같아서 기분이 더러워요\\r\\n어떻게 된거냐면,\\r\\n중고딩 친구고,\\r\\n자연스레 연락 끊겼다가\\r\\n25살쯤 성인된 후 오랜만에 만나서\\r\\n밥먹고 차마시며 그간 어떻게 지냈다 이런저런 얘기하다 헤어짐\\r\\n그 후로 안부연락 몇번오더라구요\\r\\n그렇게 만난지 몇개월 뒤에 갑자기 결혼한다고 함', '사람 좋아하지만 사람대하는거 무서워하고 쉽게 상처받아서 공황증세가 오고 그러면 결국 도망쳐버리는 회피성 인격장애를 가진 이런 히키가 조금이라도 사람답게 살고 사회에 기여하며 살고싶다는 꿈을 꾸게 되었습니다. 그런데 뭐부터 해야될 지 도무지 모르겠어요. 어머니는 공시라도 준비해봐라고 하시는데, 아무리 생각해도 저따위가, 열심히 공부하고 살아가는 친구들보다 잘할 거란 생각이 안들어요. 그나마 갖고 있던 희망이 이번에 공익경험을 하면서 사람관계도 배우고 사회생활도 체험해보고 하면서 차차 나아지자 였는데 장기대기자라고 면제라고 합니다.. 가고싶어해도 못가니까 선발된거 취소하래요.  무능하고 멍청하고 경험없고 겁쟁이인 장기 히키인 제가 어떻게 해야 사람다운 사람이 될 수 있을까요. 부디 의견 부탁드립니다.. 너무 막막해서 그래요..', '요즘 옛 인연들에 고민이 많습니다.\\r\\n사회생활 할 수록 순수한 인연들 만나기가 힘들다는 생각이 들어 더 그런 것 같아요.\\r\\n연락을 거의 안하는 친구들인데\\r\\n각자 먹고 사는게 바빠 그런 것으로 이해하려는데요.\\r\\n문제는 연 1~2회 정도 제가 선연락을 해도\\r\\n답장에 성의가없다는 겁니다.\\r\\n용기내서 오랜만에 연락했는데\\r\\n읽씹/안읽씹 당하면 각오하고 보냈어도\\r\\n머리로는 이해하려해도, 감정이 상하는 건 어쩔 수가 없더라구요.\\r\\n저만 매달리는거같고, 나만 호구되는 거 같은?\\r\\n일단 나에게 관심이 없고 소중하게 생각하지 않는 것 같아 서운하네요.\\r\\n바쁘면 나중에 연락을 주는것도 아니고...']\n"
          ],
          "name": "stdout"
        }
      ]
    },
    {
      "cell_type": "code",
      "metadata": {
        "id": "fsjh4wKsvNkb"
      },
      "source": [
        "embeddings = model.encode(doc_list, convert_to_tensor=True)"
      ],
      "execution_count": 18,
      "outputs": []
    },
    {
      "cell_type": "code",
      "metadata": {
        "id": "qHkn2zgyvSVi"
      },
      "source": [
        "sentence1 = [\"평소 아무렇지도 않던 것들이 귀찮고 괴롭게 느껴졌다.\", \"정신을 집중하기 힘들었다.\", \"우울하다고 생각했다\", \"모든 일들이 힘들게 느껴졌다\", \"비교적 잘 지냈다고 생각한다\"]"
      ],
      "execution_count": 20,
      "outputs": []
    },
    {
      "cell_type": "code",
      "metadata": {
        "id": "Z2lEAxfcv243"
      },
      "source": [
        "embeddings_query = model.encode(sentence1, convert_to_tensor=True)"
      ],
      "execution_count": 21,
      "outputs": []
    },
    {
      "cell_type": "code",
      "metadata": {
        "id": "Uzs52MgMwFBD"
      },
      "source": [
        "cosine_scores = util.pytorch_cos_sim(embeddings_query, embeddings)"
      ],
      "execution_count": 22,
      "outputs": []
    },
    {
      "cell_type": "code",
      "metadata": {
        "colab": {
          "base_uri": "https://localhost:8080/"
        },
        "id": "6zkeBpGmwH83",
        "outputId": "d6398083-bce5-4948-f088-596e68436d78"
      },
      "source": [
        "org = 0\n",
        "temp = cosine_scores[org]\n",
        "temp.argsort(descending=True)[0:10]\n",
        "\n",
        "for i in temp.argsort(descending=True)[0:10]:\n",
        "    print(f\"{i}. {sentence1[org]} <> {doc_list[i]} \\nScore: {cosine_scores[org][i]:.4f}\")"
      ],
      "execution_count": 24,
      "outputs": [
        {
          "output_type": "stream",
          "text": [
            "75. 평소 아무렇지도 않던 것들이 귀찮고 괴롭게 느껴졌다. <> 파도 같은 인생에 다시 좋아지고 있는 삶이 언제나 갑작스레 불행이 올까봐 행복하며 불안하다. \n",
            "Score: 0.9347\n",
            "129. 평소 아무렇지도 않던 것들이 귀찮고 괴롭게 느껴졌다. <> 아무리 긍정적으로 생각해보려해도, 별 이유없이 심란하고 뒤숭숭;; 마음이 편해지고 싶다 \n",
            "Score: 0.9108\n",
            "74. 평소 아무렇지도 않던 것들이 귀찮고 괴롭게 느껴졌다. <> 화가난다 하소연도하고\r\n",
            "눈물이니ㅣㄴ다 다들 놀리기 바빠 \n",
            "Score: 0.9067\n",
            "119. 평소 아무렇지도 않던 것들이 귀찮고 괴롭게 느껴졌다. <> 지금 이 시간이 제일 고통스럽다 죽지 못해 사는거 나만 그런건가 \n",
            "Score: 0.9057\n",
            "121. 평소 아무렇지도 않던 것들이 귀찮고 괴롭게 느껴졌다. <> 미화될때마다 기분이 참 복잡하다\r\n",
            "어떻게 인생이 전부 후회되는 일 밖에 없을까 \n",
            "Score: 0.9006\n",
            "65. 평소 아무렇지도 않던 것들이 귀찮고 괴롭게 느껴졌다. <> 꿈 결혼해서 애기 낳는거 꿈이었는데 그 꿈도 이제는 없다. 다 포기했다. 난 아무것도 바라는게 없다. 결혼해서 애 낳는거, 되게 욕심이거나 거창하지는 않다고 생각했는데, 보면 대부분 90퍼센트 사람들이 결국은 결혼해서 애 낳잖아. 이거마저 버리니까 내 자신이 참 불쌍하다. 이제는 아무런 꿈이 없어. \n",
            "Score: 0.9002\n",
            "25. 평소 아무렇지도 않던 것들이 귀찮고 괴롭게 느껴졌다. <> 주변에 사람이 많아도\r\n",
            "결국 내 힘든말 한마디 얘기할사람이 없다는게 슬프네요 \n",
            "Score: 0.8998\n",
            "68. 평소 아무렇지도 않던 것들이 귀찮고 괴롭게 느껴졌다. <> 가슴 통증이 너무 심해.. 요즘 아메리카노를 마셔서 그런가... 이놈의 다이어트 때문에.. 마시지 말아야지 하고 다짐해도.. 어쩌다 먹고 있는 나 많이 먹으면 공황에 심한 가슴 통증에 원망에 부정적인 생각들로 고통스러운데..ㅎ 아직 반에 반도 안먹었는지 어쩌지 책상에 나두고 조금씩 먹을까 눈물만 날려고 해. \n",
            "Score: 0.8993\n",
            "149. 평소 아무렇지도 않던 것들이 귀찮고 괴롭게 느껴졌다. <> 퇴사하고 싶은데 이게 대기업이 아니니 직접 면전에 대놓고 얘기해야하는데 뭐 어떻게 얘기해야할지도 모르겠고 눈뜨면 출근은 하는데 하루 보내는게 지옥같고 진짜 사는게 아니네요 \n",
            "Score: 0.8991\n",
            "83. 평소 아무렇지도 않던 것들이 귀찮고 괴롭게 느껴졌다. <> 평일엔 센터에서 절대을이고 주말엔 새로운 알바를 시작했고 남친은 새나라에 어른이라11시 이후엔 전화도 카톡도 안보고 난 그시간이 가장 힘들고 외롭고 슬프구 공허하고 죽고싶고 누군가 날잡아줬음 하고..하루하루 매일 전투적으로 살아도 늘 그자리고..너무 힘들고 지쳐서 이제 그만하고싶다. \n",
            "Score: 0.8981\n"
          ],
          "name": "stdout"
        }
      ]
    },
    {
      "cell_type": "code",
      "metadata": {
        "id": "LkO1PzaywJsv"
      },
      "source": [
        ""
      ],
      "execution_count": null,
      "outputs": []
    }
  ]
}